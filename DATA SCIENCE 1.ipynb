{
 "cells": [
  {
   "cell_type": "code",
   "execution_count": 2,
   "metadata": {},
   "outputs": [
    {
     "name": "stdout",
     "output_type": "stream",
     "text": [
      "Empty Array\n",
      "[[         0          0          0          0]\n",
      " [         0          0          0          0]\n",
      " [         0          0       1388          0]\n",
      " [         0    4980804          0 1919877120]]\n",
      "\n",
      " Full Array\n",
      "[[50. 50. 50.]\n",
      " [50. 50. 50.]\n",
      " [50. 50. 50.]]\n"
     ]
    }
   ],
   "source": [
    "import numpy as np\n",
    "  \n",
    "  \n",
    "emparr = np.empty((4, 4), dtype=int)\n",
    "print(\"Empty Array\")\n",
    "print(emparr)\n",
    "  \n",
    "arr = np.full([3, 3], 50, dtype=float)\n",
    "print(\"\\n Full Array\")\n",
    "print(arr)"
   ]
  },
  {
   "cell_type": "code",
   "execution_count": 5,
   "metadata": {},
   "outputs": [
    {
     "name": "stdout",
     "output_type": "stream",
     "text": [
      "Empty Array\n",
      "[[0 0 0 0]\n",
      " [0 0 0 0]\n",
      " [0 0 0 0]]\n",
      "\n",
      " Full Array\n",
      "[[50 50 50 50]\n",
      " [50 50 50 50]\n",
      " [50 50 50 50]\n",
      " [50 50 50 50]]\n"
     ]
    }
   ],
   "source": [
    "import numpy as np\n",
    "  \n",
    "  \n",
    "# Create an empty array\n",
    "empa = np.empty((3, 4), dtype=int)\n",
    "print(\"Empty Array\")\n",
    "print(empa)\n",
    "  \n",
    "# Create a full array\n",
    "fulla = np.full([4, 4], 50, dtype=int)\n",
    "print(\"\\n Full Array\")\n",
    "print(fulla)"
   ]
  },
  {
   "cell_type": "code",
   "execution_count": 7,
   "metadata": {},
   "outputs": [
    {
     "name": "stdout",
     "output_type": "stream",
     "text": [
      "Matrix a : \n",
      " [0 0 0 0]\n",
      "\n",
      "Matrix b : \n",
      " [[0 0]\n",
      " [0 0]]\n"
     ]
    }
   ],
   "source": [
    "import numpy as np \n",
    "  \n",
    "a = np.zeros(4, dtype = int) \n",
    "print(\"Matrix a : \\n\", a) \n",
    "  \n",
    "b = np.zeros([2, 2], dtype = int) \n",
    "print(\"\\nMatrix b : \\n\", b)"
   ]
  },
  {
   "cell_type": "code",
   "execution_count": 8,
   "metadata": {},
   "outputs": [
    {
     "name": "stdout",
     "output_type": "stream",
     "text": [
      "Matrix a : \n",
      " [1 1 1]\n",
      "\n",
      "Matrix b : \n",
      " [[1 1 1]\n",
      " [1 1 1]\n",
      " [1 1 1]]\n"
     ]
    }
   ],
   "source": [
    "import numpy as np \n",
    "  \n",
    "a = np.ones(3, dtype = int) \n",
    "print(\"Matrix a : \\n\", a) \n",
    "  \n",
    "b = np.ones([3, 3], dtype = int) \n",
    "print(\"\\nMatrix b : \\n\", b) "
   ]
  },
  {
   "cell_type": "code",
   "execution_count": 9,
   "metadata": {},
   "outputs": [
    {
     "name": "stdout",
     "output_type": "stream",
     "text": [
      "[[ 1  2  3  4  5]\n",
      " [ 6  7  8  9 10]\n",
      " [11 12 13 14 15]\n",
      " [16 17 18 19 20]]\n",
      "True\n",
      "False\n",
      "False\n",
      "True\n"
     ]
    }
   ],
   "source": [
    "# importing package\n",
    "import numpy\n",
    "  \n",
    "# create numpy array\n",
    "arr = numpy.array([[1, 2, 3, 4, 5],\n",
    "                   [6, 7, 8, 9, 10],\n",
    "                   [11, 12, 13, 14, 15],\n",
    "                   [16, 17, 18, 19, 20]\n",
    "                   ])\n",
    "  \n",
    "# view array\n",
    "print(arr)\n",
    "  \n",
    "# check for some lists\n",
    "print([1, 2, 3, 4, 5] in arr.tolist())\n",
    "print([16, 17, 20, 19, 18] in arr.tolist())\n",
    "print([3, 2, 5, -4, 5] in arr.tolist())\n",
    "print([11, 12, 13, 14, 15] in arr.tolist())"
   ]
  },
  {
   "cell_type": "code",
   "execution_count": 10,
   "metadata": {},
   "outputs": [
    {
     "name": "stdout",
     "output_type": "stream",
     "text": [
      "Given array:\n",
      "[[10.5  nan  3.8]\n",
      " [41.   nan 50. ]]\n",
      "\n",
      "Remove all rows containing non-numeric elements\n",
      "[]\n"
     ]
    }
   ],
   "source": [
    "\n",
    "# Importing Numpy module\n",
    "import numpy as np\n",
    "  \n",
    "# Creating 2X3 2-D Numpy array\n",
    "n_arr = np.array([[10.5, np.nan, 3.8],\n",
    "                  [41, np.nan, 50]])\n",
    "  \n",
    "print(\"Given array:\")\n",
    "print(n_arr)\n",
    "  \n",
    "print(\"\\nRemove all rows containing non-numeric elements\")\n",
    "print(n_arr[~np.isnan(n_arr).any(axis=1)])"
   ]
  },
  {
   "cell_type": "code",
   "execution_count": 12,
   "metadata": {},
   "outputs": [
    {
     "name": "stdout",
     "output_type": "stream",
     "text": [
      "Given array:\n",
      "[[10.5  nan  3.8]\n",
      " [41.   nan 50. ]\n",
      " [20.  10.  50. ]]\n",
      "\n",
      "Remove all rows containing non-numeric elements\n",
      "[[20. 10. 50.]]\n"
     ]
    }
   ],
   "source": [
    "# Importing Numpy module\n",
    "import numpy as np\n",
    "  \n",
    "# Creating 2X3 2-D Numpy array\n",
    "n_arr = np.array([[10.5, np.nan, 3.8],\n",
    "                  [41, np.nan, 50],\n",
    "                 [20,10,50]])\n",
    "  \n",
    "print(\"Given array:\")\n",
    "print(n_arr)\n",
    "  \n",
    "print(\"\\nRemove all rows containing non-numeric elements\")\n",
    "print(n_arr[~np.isnan(n_arr).any(axis=1)])"
   ]
  },
  {
   "cell_type": "code",
   "execution_count": 13,
   "metadata": {},
   "outputs": [
    {
     "name": "stdout",
     "output_type": "stream",
     "text": [
      "Input array :  [[[1 2 3]\n",
      "  [2 2 2]]]\n",
      "Shape of input array :  (1, 2, 3)\n",
      "output squeezed array :  [[1 2 3]\n",
      " [2 2 2]]\n",
      "Shape of output array :  (2, 3)\n"
     ]
    }
   ],
   "source": [
    "# Python program explaining\n",
    "# numpy.squeeze function\n",
    "\n",
    "import numpy as np\n",
    "\n",
    "in_arr = np.array([[[1, 2, 3], [2, 2, 2]]])\n",
    "\n",
    "print (\"Input array : \", in_arr)\n",
    "print(\"Shape of input array : \", in_arr.shape)\n",
    "\n",
    "out_arr = np.squeeze(in_arr)\n",
    "\n",
    "print (\"output squeezed array : \", out_arr)\n",
    "print(\"Shape of output array : \", out_arr.shape)\n"
   ]
  },
  {
   "cell_type": "code",
   "execution_count": 14,
   "metadata": {},
   "outputs": [
    {
     "name": "stdout",
     "output_type": "stream",
     "text": [
      "5\n"
     ]
    }
   ],
   "source": [
    "# importing package\n",
    "import numpy\n",
    "  \n",
    "# create numpy array\n",
    "arr = numpy.array([[2, 8, 9, 4], \n",
    "                   [9, 4, 9, 4],\n",
    "                   [4, 5, 9, 7],\n",
    "                   [2, 9, 4, 3]])\n",
    "  \n",
    "# Counting sequence\n",
    "output = repr(arr).count(\"4\")\n",
    "  \n",
    "# view output\n",
    "print(output)"
   ]
  },
  {
   "cell_type": "code",
   "execution_count": 15,
   "metadata": {},
   "outputs": [
    {
     "name": "stdout",
     "output_type": "stream",
     "text": [
      "Original array:\n",
      "[1 2 3 4 5 1 2 1 1]\n",
      "Most frequent value in the above array:\n",
      "1\n"
     ]
    }
   ],
   "source": [
    "import numpy as np\n",
    "  \n",
    "  \n",
    "# create array\n",
    "x = np.array([1,2,3,4,5,1,2,1,1])\n",
    "print(\"Original array:\")\n",
    "print(x)\n",
    "  \n",
    "print(\"Most frequent value in the above array:\")\n",
    "print(np.bincount(x).argmax())"
   ]
  },
  {
   "cell_type": "code",
   "execution_count": 16,
   "metadata": {},
   "outputs": [
    {
     "name": "stdout",
     "output_type": "stream",
     "text": [
      "Original array:\n",
      "[1 1 1 2 3 4 2 4 3 3]\n",
      "Most frequent value in above array\n",
      "1 3 "
     ]
    }
   ],
   "source": [
    "import numpy as np\n",
    "  \n",
    "  \n",
    "x = np.array([1, 1, 1, 2, 3, 4, 2, 4, 3, 3, ])\n",
    "print(\"Original array:\")\n",
    "print(x)\n",
    "  \n",
    "print(\"Most frequent value in above array\")\n",
    "y = np.bincount(x)\n",
    "maximum = max(y)\n",
    "  \n",
    "for i in range(len(y)):\n",
    "    if y[i] == maximum:\n",
    "        print(i, end=\" \")"
   ]
  },
  {
   "cell_type": "code",
   "execution_count": 17,
   "metadata": {},
   "outputs": [
    {
     "name": "stdout",
     "output_type": "stream",
     "text": [
      "One dimensional array:\n",
      "[0 1 2 3 4]\n",
      "\n",
      "Two dimensional array:\n",
      "[[0 1 2 3 4]\n",
      " [5 6 7 8 9]]\n",
      "0:0\n",
      "1:1\n",
      "2:2\n",
      "3:3\n",
      "4:4\n",
      "0:5\n",
      "1:6\n",
      "2:7\n",
      "3:8\n",
      "4:9\n"
     ]
    }
   ],
   "source": [
    "# importing Numpy package \n",
    "import numpy as np\n",
    "  \n",
    "num_1d = np.arange(5)\n",
    "print(\"One dimensional array:\")\n",
    "print(num_1d)\n",
    "  \n",
    "num_2d = np.arange(10).reshape(2,5)\n",
    "print(\"\\nTwo dimensional array:\")\n",
    "print(num_2d)\n",
    "  \n",
    "# Combine 1-D and 2-D arrays and display \n",
    "# their elements using numpy.nditer() \n",
    "for a, b in np.nditer([num_1d, num_2d]):\n",
    "    print(\"%d:%d\" % (a, b),)"
   ]
  },
  {
   "cell_type": "code",
   "execution_count": 21,
   "metadata": {},
   "outputs": [
    {
     "name": "stdout",
     "output_type": "stream",
     "text": [
      "Array-1\n",
      "[1 2]\n",
      "\n",
      "Array-2\n",
      "[3 4]\n",
      "\n",
      "Combine array:\n",
      "[[1 3]\n",
      " [1 4]\n",
      " [2 3]\n",
      " [2 4]]\n"
     ]
    }
   ],
   "source": [
    "\n",
    "# importing Numpy package\n",
    "import numpy as np\n",
    "  \n",
    "# creating 2 numpy arrays\n",
    "array_1 = np.array([1, 2])\n",
    "array_2 = np.array([3, 4])\n",
    "  \n",
    "print(\"Array-1\")\n",
    "print(array_1)\n",
    "  \n",
    "print(\"\\nArray-2\")\n",
    "print(array_2)\n",
    "  \n",
    "# combination of elements of array_1 and array_2\n",
    "# using numpy.meshgrid().T.reshape()\n",
    "comb_array = np.array(np.meshgrid(array_1, array_2)).T.reshape(-1, 2)\n",
    "  \n",
    "print(\"\\nCombine array:\")\n",
    "print(comb_array)"
   ]
  },
  {
   "cell_type": "code",
   "execution_count": 2,
   "metadata": {},
   "outputs": [
    {
     "name": "stdout",
     "output_type": "stream",
     "text": [
      "Original array\n",
      "[[1. 1. 1. 1.]\n",
      " [1. 1. 1. 1.]\n",
      " [1. 1. 1. 1.]\n",
      " [1. 1. 1. 1.]]\n",
      "\n",
      "0 on the border and 1 inside the array\n",
      "[[0. 0. 0. 0. 0. 0.]\n",
      " [0. 1. 1. 1. 1. 0.]\n",
      " [0. 1. 1. 1. 1. 0.]\n",
      " [0. 1. 1. 1. 1. 0.]\n",
      " [0. 1. 1. 1. 1. 0.]\n",
      " [0. 0. 0. 0. 0. 0.]]\n"
     ]
    }
   ],
   "source": [
    "#start\n",
    "# importing Numpy package\n",
    "import numpy as np\n",
    "  \n",
    "# Creating a 2X2 Numpy matrix\n",
    "array = np.ones((4, 4))\n",
    "  \n",
    "print(\"Original array\")\n",
    "print(array)\n",
    "  \n",
    "print(\"\\n0 on the border and 1 inside the array\")\n",
    "  \n",
    "# constructing border of 0 around 2D identity matrix\n",
    "# using np.pad()\n",
    "array = np.pad(array, pad_width=1, mode='constant',\n",
    "               constant_values=0)\n",
    "  \n",
    "print(array)"
   ]
  },
  {
   "cell_type": "code",
   "execution_count": 3,
   "metadata": {},
   "outputs": [
    {
     "name": "stdout",
     "output_type": "stream",
     "text": [
      "Array a:  [100 200 300 400]\n",
      "Array b:  [800  97 111 500]\n",
      "a > b\n",
      "[False  True  True False]\n",
      "a >= b\n",
      "[False  True  True False]\n",
      "a < b\n",
      "[ True False False  True]\n",
      "a <= b\n",
      "[ True False False  True]\n"
     ]
    }
   ],
   "source": [
    "import numpy as np\n",
    "\n",
    "\n",
    "a = np.array([100, 200, 300, 400])\n",
    "b = np.array([800, 97, 111, 500 ])\n",
    "\n",
    "print(\"Array a: \", a)\n",
    "print(\"Array b: \", b)\n",
    "\n",
    "print(\"a > b\")\n",
    "print(np.greater(a, b))\n",
    "\n",
    "print(\"a >= b\")\n",
    "print(np.greater_equal(a, b))\n",
    "\n",
    "print(\"a < b\")\n",
    "print(np.less(a, b))\n",
    "\n",
    "print(\"a <= b\")\n",
    "print(np.less_equal(a, b))\n"
   ]
  },
  {
   "cell_type": "code",
   "execution_count": 4,
   "metadata": {},
   "outputs": [
    {
     "name": "stdout",
     "output_type": "stream",
     "text": [
      "True\n"
     ]
    }
   ],
   "source": [
    "\n",
    "import numpy as np\n",
    "  \n",
    "an_array = np.array([[50, 60], [100, 200]])\n",
    "another_array = np.array([[50, 60], [100, 200]])\n",
    "  \n",
    "comparison = an_array == another_array\n",
    "equal_arrays = comparison.all()\n",
    "  \n",
    "print(equal_arrays)"
   ]
  },
  {
   "cell_type": "code",
   "execution_count": 5,
   "metadata": {},
   "outputs": [
    {
     "name": "stdout",
     "output_type": "stream",
     "text": [
      "Given array:\n",
      "[[2 3 0]\n",
      " [4 1 6]]\n",
      "True\n",
      "True\n",
      "True\n",
      "True\n",
      "False\n",
      "True\n"
     ]
    }
   ],
   "source": [
    "# importing Numpy package\n",
    "import numpy as np\n",
    "\n",
    "# creating a Numpy array\n",
    "n_array = np.array([[2, 3, 0],\n",
    "\t\t\t\t\t[4, 1, 6]])\n",
    "\n",
    "print(\"Given array:\")\n",
    "print(n_array)\n",
    "\n",
    "# Checking whether specific values\n",
    "# are present in \"n_array\" or not\n",
    "print(2 in n_array)\n",
    "print(0 in n_array)\n",
    "print(0 in n_array)\n",
    "print(6 in n_array)\n",
    "print(10 in n_array)\n",
    "print(1 in n_array)\n"
   ]
  },
  {
   "cell_type": "code",
   "execution_count": 7,
   "metadata": {},
   "outputs": [
    {
     "name": "stdout",
     "output_type": "stream",
     "text": [
      "Original 3d array:\n",
      " [[[ 0  1  2  3]\n",
      "  [ 4  5  6  7]\n",
      "  [ 8  9 10 11]\n",
      "  [12 13 14 15]]\n",
      "\n",
      " [[16 17 18 19]\n",
      "  [20 21 22 23]\n",
      "  [24 25 26 27]\n",
      "  [28 29 30 31]]]\n",
      "2d diagonal array:\n",
      " [[ 0  5 10 15]\n",
      " [16 21 26 31]]\n"
     ]
    }
   ],
   "source": [
    "# Import the numpy package\n",
    "import numpy as np\n",
    "\n",
    "# Create 3D-numpy array\n",
    "# of 4 rows and 4 columns\n",
    "arr = np.arange(2 * 4 * 4).reshape(2, 4, 4)\n",
    "\n",
    "print(\"Original 3d array:\\n\",\n",
    "\tarr)\n",
    "\n",
    "# Create 2D diagonal array\n",
    "diag = np.diagonal(arr,\n",
    "\t\t\t\t\taxis1 = 1,\n",
    "\t\t\t\t\taxis2 = 2)\n",
    "\n",
    "print(\"2d diagonal array:\\n\",\n",
    "\tdiag)\n"
   ]
  },
  {
   "cell_type": "code",
   "execution_count": 8,
   "metadata": {},
   "outputs": [
    {
     "data": {
      "text/plain": [
       "array([1, 4, 3, 2, 5, 6])"
      ]
     },
     "execution_count": 8,
     "metadata": {},
     "output_type": "execute_result"
    }
   ],
   "source": [
    "# importing numpy as np\n",
    "import numpy as np\n",
    "\n",
    "# declare matrix with np\n",
    "mat = np.array([[1, 4], [3, 2], [5, 6]])\n",
    "\n",
    "# using array.flatten() method\n",
    "mat.flatten()\n"
   ]
  },
  {
   "cell_type": "code",
   "execution_count": 9,
   "metadata": {},
   "outputs": [
    {
     "name": "stdout",
     "output_type": "stream",
     "text": [
      "initial array [[1 2 3]\n",
      " [2 4 5]\n",
      " [1 2 3]]\n",
      "New resulting array:  [1 2 3 2 4 5 1 2 3]\n"
     ]
    }
   ],
   "source": [
    "# Python code to demonstrate\n",
    "# flattening a 2d numpy array\n",
    "# into 1d array\n",
    "\n",
    "import numpy as np\n",
    "\n",
    "array = np.array([[1, 2, 3], [2, 4, 5], [1, 2, 3]])\n",
    "\n",
    "# printing initial arrays\n",
    "print(\"initial array\", str(array))\n",
    "\n",
    "# Multiplying arrays\n",
    "result = array.flatten()\n",
    "\n",
    "# printing result\n",
    "print(\"New resulting array: \", result)\n"
   ]
  },
  {
   "cell_type": "code",
   "execution_count": 10,
   "metadata": {},
   "outputs": [
    {
     "name": "stdout",
     "output_type": "stream",
     "text": [
      "initial array [[1 2 3]\n",
      " [2 4 5]\n",
      " [1 2 3]]\n",
      "New resulting array:  [1 2 3 2 4 5 1 2 3]\n"
     ]
    }
   ],
   "source": [
    "# Python code to demonstrate\n",
    "# flattening a 2d numpy array\n",
    "# into 1d array\n",
    "\n",
    "import numpy as np\n",
    "\n",
    "ini_array1 = np.array([[1, 2, 3], [2, 4, 5], [1, 2, 3]])\n",
    "\n",
    "# printing initial arrays\n",
    "print(\"initial array\", str(ini_array1))\n",
    "\n",
    "# Multiplying arrays\n",
    "result = ini_array1.ravel()\n",
    "\n",
    "# printing result\n",
    "print(\"New resulting array: \", result)\n"
   ]
  },
  {
   "cell_type": "code",
   "execution_count": 11,
   "metadata": {},
   "outputs": [
    {
     "name": "stdout",
     "output_type": "stream",
     "text": [
      "(2, 3, 4, 1)\n"
     ]
    }
   ],
   "source": [
    "# Python program explaining\n",
    "# numpy.moveaxis() function\n",
    "\n",
    "# importing numpy as geek\n",
    "import numpy as np\n",
    "\n",
    "arr = np.zeros((1, 2, 3, 4))\n",
    "\n",
    "array = np.moveaxis(arr, 0, -1).shape\n",
    "\n",
    "print (array)\n"
   ]
  },
  {
   "cell_type": "code",
   "execution_count": 12,
   "metadata": {},
   "outputs": [
    {
     "name": "stdout",
     "output_type": "stream",
     "text": [
      "[[2]\n",
      " [4]\n",
      " [6]]\n"
     ]
    }
   ],
   "source": [
    "# Python program explaining\n",
    "# numpy.swapaxes() function\n",
    "\n",
    "# importing numpy as geek\n",
    "import numpy as np\n",
    "\n",
    "arr = np.array([[2, 4, 6]])\n",
    "\n",
    "array = np.swapaxes(arr, 0, 1)\n",
    "\n",
    "print (array)\n"
   ]
  },
  {
   "cell_type": "code",
   "execution_count": 13,
   "metadata": {},
   "outputs": [
    {
     "name": "stdout",
     "output_type": "stream",
     "text": [
      "The first 10 numbers of Fibonacci series are [ 1.  1.  2.  3.  5.  8. 13. 21. 34. 55.] . \n"
     ]
    }
   ],
   "source": [
    "import numpy as np\n",
    "\n",
    "# We are creating an array contains n = 10 elements\n",
    "# for getting first 10 Fibonacci numbers\n",
    "a = np.arange(1, 11)\n",
    "lengthA = len(a)\n",
    "\n",
    "# splitting of terms for easiness\n",
    "sqrtFive = np.sqrt(5)\n",
    "alpha = (1 + sqrtFive) / 2\n",
    "beta = (1 - sqrtFive) / 2\n",
    "\n",
    "# Implementation of formula\n",
    "# np.rint is used for rounding off to integer\n",
    "Fn = np.rint(((alpha ** a) - (beta ** a)) / (sqrtFive))\n",
    "print(\"The first {} numbers of Fibonacci series are {} . \".format(lengthA, Fn))\n"
   ]
  },
  {
   "cell_type": "code",
   "execution_count": 15,
   "metadata": {},
   "outputs": [
    {
     "name": "stdout",
     "output_type": "stream",
     "text": [
      "5\n"
     ]
    }
   ],
   "source": [
    "# Python program explaining\n",
    "# numpy.count_nonzero() function\n",
    "\n",
    "# importing numpy as geek\n",
    "import numpy as np\n",
    "\n",
    "arr = [[0, 1, 2, 0, 0], [0, 5, 6, 0, 7]]\n",
    "\n",
    "array = np.count_nonzero(arr)\n",
    "\n",
    "print (array)\n"
   ]
  },
  {
   "cell_type": "code",
   "execution_count": 20,
   "metadata": {},
   "outputs": [
    {
     "name": "stdout",
     "output_type": "stream",
     "text": [
      "3\n",
      "4\n"
     ]
    }
   ],
   "source": [
    "# Python program explaining\n",
    "# numpy.size() method\n",
    "\n",
    "# importing numpy\n",
    "import numpy as np\n",
    "\n",
    "# Making a random array\n",
    "arr = np.array([[1, 2, 3, 4], [5, 6, 7, 8],\n",
    "               [10,10,12,13]])\n",
    "\n",
    "# count the number of elements along the axis.\n",
    "# Here rows and columns are being treated\n",
    "# as elements\n",
    "\n",
    "#gives no. of rows along x-axis\n",
    "print(np.size(arr, 0))\n",
    "\n",
    "#gives no. of columns along y-axis\n",
    "print(np.size(arr, 1))\n",
    "\n",
    "\n"
   ]
  },
  {
   "cell_type": "code",
   "execution_count": 21,
   "metadata": {},
   "outputs": [
    {
     "name": "stdout",
     "output_type": "stream",
     "text": [
      "[ 1  5  7  0  6  2  9  0 10]\n"
     ]
    }
   ],
   "source": [
    "import numpy as np\n",
    "\n",
    "array = np.array((0, 0, 1, 5, 7, 0, 6, 2, 9, 0, 10, 0, 0))\n",
    "\n",
    "# without trim parameter\n",
    "# returns an array without leading and trailing zeros\n",
    "\n",
    "result = np.trim_zeros(array)\n",
    "print(result)\n"
   ]
  },
  {
   "cell_type": "code",
   "execution_count": 22,
   "metadata": {},
   "outputs": [
    {
     "name": "stdout",
     "output_type": "stream",
     "text": [
      "[10.+0.j 20.+0.j 30.+0.j 40.+0.j 50.+0.j]\n",
      "complex128\n"
     ]
    }
   ],
   "source": [
    "# importing the numpy library as np\n",
    "import numpy as np\n",
    "\n",
    "# Create a numpy array\n",
    "arr = np.array([10, 20, 30, 40, 50])\n",
    "\n",
    "# change the dtype to 'complex128'\n",
    "arr = arr = arr.astype('complex128')\n",
    "\n",
    "# Print the array after changing\n",
    "# the data type\n",
    "print(arr)\n",
    "\n",
    "# Also print the data type\n",
    "print(arr.dtype)\n",
    "\n"
   ]
  },
  {
   "cell_type": "code",
   "execution_count": 23,
   "metadata": {},
   "outputs": [
    {
     "name": "stdout",
     "output_type": "stream",
     "text": [
      "Initial array [1 2 3 6 4 5]\n",
      "Type of ini_array <class 'numpy.ndarray'>\n",
      "Final array [5 4 6 3 2 1]\n"
     ]
    }
   ],
   "source": [
    "# Python code to demonstrate\n",
    "# how to reverse numpy array\n",
    "# using flipud method\n",
    "\n",
    "import numpy as np\n",
    "\n",
    "# initialising numpy array\n",
    "array = np.array([1, 2, 3, 6, 4, 5])\n",
    "\n",
    "# printing initial ini_array\n",
    "print(\"Initial array\", str(array))\n",
    "\n",
    "# printing type of ini_array\n",
    "print(\"Type of ini_array\", type(array))\n",
    "\n",
    "# using flipud method to reverse\n",
    "result = np.flipud(array)\n",
    "\n",
    "# printing result\n",
    "print(\"Final array\", str(result))\n"
   ]
  },
  {
   "cell_type": "code",
   "execution_count": 24,
   "metadata": {},
   "outputs": [
    {
     "name": "stdout",
     "output_type": "stream",
     "text": [
      "Before any change \n",
      "[0. 0. 0. 0. 0. 0. 0. 0. 0. 0.]\n",
      "After first change \n",
      "[0. 2. 0. 0. 0. 0. 0. 0. 0. 0.]\n",
      "After making array immutable on attempting second change \n"
     ]
    },
    {
     "ename": "ValueError",
     "evalue": "assignment destination is read-only",
     "output_type": "error",
     "traceback": [
      "\u001b[1;31m---------------------------------------------------------------------------\u001b[0m",
      "\u001b[1;31mValueError\u001b[0m                                Traceback (most recent call last)",
      "\u001b[1;32m<ipython-input-24-4df2c372f4b8>\u001b[0m in \u001b[0;36m<module>\u001b[1;34m\u001b[0m\n\u001b[0;32m     12\u001b[0m \u001b[0ma\u001b[0m\u001b[1;33m.\u001b[0m\u001b[0mflags\u001b[0m\u001b[1;33m.\u001b[0m\u001b[0mwriteable\u001b[0m \u001b[1;33m=\u001b[0m \u001b[1;32mFalse\u001b[0m\u001b[1;33m\u001b[0m\u001b[1;33m\u001b[0m\u001b[0m\n\u001b[0;32m     13\u001b[0m \u001b[0mprint\u001b[0m\u001b[1;33m(\u001b[0m\u001b[1;34m\"After making array immutable on attempting second change \"\u001b[0m\u001b[1;33m)\u001b[0m\u001b[1;33m\u001b[0m\u001b[1;33m\u001b[0m\u001b[0m\n\u001b[1;32m---> 14\u001b[1;33m \u001b[0ma\u001b[0m\u001b[1;33m[\u001b[0m\u001b[1;36m1\u001b[0m\u001b[1;33m]\u001b[0m \u001b[1;33m=\u001b[0m \u001b[1;36m7\u001b[0m\u001b[1;33m\u001b[0m\u001b[1;33m\u001b[0m\u001b[0m\n\u001b[0m",
      "\u001b[1;31mValueError\u001b[0m: assignment destination is read-only"
     ]
    }
   ],
   "source": [
    "import numpy as np\n",
    "\n",
    "\n",
    "a = np.zeros(10)\n",
    "print(\"Before any change \")\n",
    "print(a)\n",
    "\n",
    "a[1] = 2\n",
    "print(\"After first change \")\n",
    "print(a)\n",
    "\n",
    "a.flags.writeable = False\n",
    "print(\"After making array immutable on attempting second change \")\n",
    "a[1] = 7\n"
   ]
  },
  {
   "cell_type": "code",
   "execution_count": 25,
   "metadata": {},
   "outputs": [
    {
     "name": "stdout",
     "output_type": "stream",
     "text": [
      "4\n"
     ]
    }
   ],
   "source": [
    "#NUMPY MATRIX\n",
    "#1\n",
    "# import the important module in python\n",
    "import numpy as np\n",
    "\t\t\n",
    "# make matrix with numpy\n",
    "matrix1 = np.matrix('[1, 2; 3, 4]')\n",
    "\t\t\n",
    "# applying matrix.max() method\n",
    "result = matrix1.max()\n",
    "\t\n",
    "print(result)\n"
   ]
  },
  {
   "cell_type": "code",
   "execution_count": 26,
   "metadata": {},
   "outputs": [
    {
     "name": "stdout",
     "output_type": "stream",
     "text": [
      "-9\n"
     ]
    }
   ],
   "source": [
    "# import the important module in python\n",
    "import numpy as np\n",
    "\t\t\n",
    "matrix1 = np.matrix('[1, 2, 3; 4, 5, 6; 7, 8, -9]')\n",
    "\t\t\n",
    "# applying matrix.min() method\n",
    "result = matrix1.min()\n",
    "\t\n",
    "print(result)\n"
   ]
  },
  {
   "cell_type": "code",
   "execution_count": 29,
   "metadata": {},
   "outputs": [
    {
     "name": "stdout",
     "output_type": "stream",
     "text": [
      "[[1 2 3]\n",
      " [4 5 6]]\n",
      "(2, 3)\n"
     ]
    }
   ],
   "source": [
    "import numpy as np\n",
    "\n",
    "\n",
    "matrix= np.arange(1,7).reshape((2, 3))\n",
    "\n",
    "# Original matrix\n",
    "print(matrix)\n",
    "\n",
    "# Number of rows and columns of the said matrix\n",
    "print(matrix.shape)\n"
   ]
  },
  {
   "cell_type": "code",
   "execution_count": 30,
   "metadata": {},
   "outputs": [
    {
     "name": "stdout",
     "output_type": "stream",
     "text": [
      "[[60]]\n"
     ]
    }
   ],
   "source": [
    "# import the important module in python\n",
    "import numpy as np\n",
    "\t\t\t\n",
    "# make matrix with numpy\n",
    "matrix1= np.matrix('[20, 30, 40, 50, 60, 80, 70]')\n",
    "\t\t\t\n",
    "# applying matrix.take() method\n",
    "res = matrix1.take(4)\n",
    "\t\n",
    "print(res)\n"
   ]
  },
  {
   "cell_type": "code",
   "execution_count": 31,
   "metadata": {},
   "outputs": [
    {
     "name": "stdout",
     "output_type": "stream",
     "text": [
      "10\n"
     ]
    }
   ],
   "source": [
    "# import the important module in python\n",
    "import numpy as np\n",
    "\t\t\t\n",
    "# make matrix with numpy\n",
    "mat1 = np.matrix('[1, 2; 3, 4]')\n",
    "\t\t\t\n",
    "# applying matrix.sum() method\n",
    "res = mat1.sum()\n",
    "\n",
    "print(res)\n"
   ]
  },
  {
   "cell_type": "code",
   "execution_count": 32,
   "metadata": {},
   "outputs": [
    {
     "name": "stdout",
     "output_type": "stream",
     "text": [
      "Numpy Matrix is:\n",
      "[[10 25 15]\n",
      " [30 20  2]\n",
      " [11 45 30]]\n",
      "\n",
      "Diagonal elements are:\n",
      "[10 20 30]\n",
      "\n",
      "Sum of Diagonal elements is:\n",
      "60\n"
     ]
    }
   ],
   "source": [
    "# importing Numpy package\n",
    "import numpy as np\n",
    "\n",
    "# creating a 3X3 Numpy matrix\n",
    "n_array = np.array([[10, 25, 15],\n",
    "\t\t\t\t\t[30, 20, 2],\n",
    "\t\t\t\t\t[11, 45, 30]])\n",
    "\n",
    "# Displaying the Matrix\n",
    "print(\"Numpy Matrix is:\")\n",
    "print(n_array)\n",
    "\n",
    "# Finding the diagonal elements of a matrix\n",
    "diag = np.diagonal(n_array)\n",
    "\n",
    "print(\"\\nDiagonal elements are:\")\n",
    "print(diag)\n",
    "\n",
    "print(\"\\nSum of Diagonal elements is:\")\n",
    "print(sum(diag))\n"
   ]
  },
  {
   "cell_type": "code",
   "execution_count": 34,
   "metadata": {},
   "outputs": [
    {
     "name": "stdout",
     "output_type": "stream",
     "text": [
      "Printing elements of first matrix\n",
      "[[10 20]\n",
      " [30 40]]\n",
      "Printing elements of second matrix\n",
      "[[5 5]\n",
      " [5 5]]\n",
      "Addition of two matrix\n",
      "[[15 25]\n",
      " [35 45]]\n",
      "Subtraction of two matrix\n",
      "[[ 5 15]\n",
      " [25 35]]\n"
     ]
    }
   ],
   "source": [
    "# importing numpy as np\n",
    "import numpy as np\n",
    "\n",
    "\n",
    "# creating first matrix\n",
    "A = np.array([[10, 20], [30, 40]])\n",
    "\n",
    "# creating second matrix\n",
    "B = np.array([[5, 5], [5, 5]])\n",
    "\n",
    "print(\"Printing elements of first matrix\")\n",
    "print(A)\n",
    "print(\"Printing elements of second matrix\")\n",
    "print(B)\n",
    "\n",
    "# adding two matrix\n",
    "print(\"Addition of two matrix\")\n",
    "print(np.add(A, B))\n",
    "\n",
    "# subtracting two matrix\n",
    "print(\"Subtraction of two matrix\")\n",
    "print(np.subtract(A, B))\n"
   ]
  },
  {
   "cell_type": "code",
   "execution_count": 35,
   "metadata": {},
   "outputs": [
    {
     "name": "stdout",
     "output_type": "stream",
     "text": [
      "Empty array:\n",
      "[]\n",
      "\n",
      "Now array is:\n",
      "[[10 20 30 60]\n",
      " [40 50 70 80]]\n"
     ]
    }
   ],
   "source": [
    "# importing Numpy package\n",
    "import numpy as np\n",
    "\n",
    "# creating an empty 2d array of int type\n",
    "empt_array = np.empty((0,4), int)\n",
    "print(\"Empty array:\")\n",
    "print(empt_array)\n",
    "\n",
    "# adding two new rows to empt_array\n",
    "# using np.append()\n",
    "empt_array = np.append(empt_array, np.array([[10,20,30,60]]), axis=0)\n",
    "empt_array = np.append(empt_array, np.array([[40,50,70,80]]), axis=0)\n",
    "\n",
    "print(\"\\nNow array is:\")\n",
    "print(empt_array)\n"
   ]
  },
  {
   "cell_type": "code",
   "execution_count": 36,
   "metadata": {},
   "outputs": [
    {
     "name": "stdout",
     "output_type": "stream",
     "text": [
      "initial_array :  [[1 2 3]\n",
      " [4 5 6]\n",
      " [7 8 9]]\n",
      "resultant array [[ 1  2  3 10]\n",
      " [ 4  5  6 11]\n",
      " [ 7  8  9 12]]\n"
     ]
    }
   ],
   "source": [
    "# python code to demonstrate\n",
    "# adding columns in numpy array\n",
    "\n",
    "import numpy as np\n",
    "\n",
    "ini_array = np.array([[1, 2, 3], [4, 5, 6], [7, 8, 9]])\n",
    "\n",
    "# printing initial array\n",
    "print(\"initial_array : \", str(ini_array));\n",
    "\n",
    "# Array to be added as column\n",
    "column_to_be_added = np.array([10, 11, 12])\n",
    "\n",
    "# Adding column to numpy array\n",
    "result = np.column_stack((ini_array, column_to_be_added))\n",
    "\n",
    "# printing result\n",
    "print (\"resultant array\", str(result))\n"
   ]
  },
  {
   "cell_type": "code",
   "execution_count": 37,
   "metadata": {},
   "outputs": [
    {
     "name": "stdout",
     "output_type": "stream",
     "text": [
      "Matrix p :\n",
      "[[1, 2], [2, 3], [4, 5]]\n",
      "Matrix q :\n",
      "[[4, 5, 1], [6, 7, 2]]\n",
      "The matrix multiplication is :\n",
      "[[16 19  5]\n",
      " [26 31  8]\n",
      " [46 55 14]]\n"
     ]
    }
   ],
   "source": [
    "# importing the module\n",
    "import numpy as np\n",
    "\n",
    "# creating two matrices\n",
    "p = [[1, 2], [2, 3], [4, 5]]\n",
    "q = [[4, 5, 1], [6, 7, 2]]\n",
    "print(\"Matrix p :\")\n",
    "print(p)\n",
    "print(\"Matrix q :\")\n",
    "print(q)\n",
    "\n",
    "# computing product\n",
    "result = np.dot(p, q)\n",
    "\n",
    "# printing the result\n",
    "print(\"The matrix multiplication is :\")\n",
    "print(result)\n"
   ]
  },
  {
   "cell_type": "code",
   "execution_count": 38,
   "metadata": {},
   "outputs": [
    {
     "name": "stdout",
     "output_type": "stream",
     "text": [
      "[-0.37228132  5.37228132]\n"
     ]
    }
   ],
   "source": [
    "# import numpy\n",
    "from numpy import linalg as LA\n",
    "\n",
    "# using np.eigvals() method\n",
    "matr1 = LA.eigvals([[1, 2], [3, 4]])\n",
    "\n",
    "print(matr1)\n"
   ]
  },
  {
   "cell_type": "code",
   "execution_count": 39,
   "metadata": {},
   "outputs": [
    {
     "name": "stdout",
     "output_type": "stream",
     "text": [
      "Numpy Matrix is:\n",
      "[[50 29]\n",
      " [30 44]]\n",
      "\n",
      "Determinant of given 2X2 matrix:\n",
      "1330\n"
     ]
    }
   ],
   "source": [
    "# importing Numpy package\n",
    "import numpy as np\n",
    "\n",
    "# creating a 2X2 Numpy matrix\n",
    "n_array = np.array([[50, 29], [30, 44]])\n",
    "\n",
    "# Displaying the Matrix\n",
    "print(\"Numpy Matrix is:\")\n",
    "print(n_array)\n",
    "\n",
    "# calculating the determinant of matrix\n",
    "det = np.linalg.det(n_array)\n",
    "\n",
    "print(\"\\nDeterminant of given 2X2 matrix:\")\n",
    "print(int(det))\n"
   ]
  },
  {
   "cell_type": "code",
   "execution_count": 40,
   "metadata": {},
   "outputs": [
    {
     "name": "stdout",
     "output_type": "stream",
     "text": [
      "[[ 0.17647059 -0.00326797 -0.02287582]\n",
      " [ 0.05882353 -0.13071895  0.08496732]\n",
      " [-0.11764706  0.1503268   0.05228758]]\n"
     ]
    }
   ],
   "source": [
    "# Python program to inverse\n",
    "# a matrix using numpy\n",
    "\n",
    "# Import required package\n",
    "import numpy as np\n",
    "\n",
    "# Taking a 3 * 3 matrix\n",
    "A = np.array([[6, 1, 1],\n",
    "\t\t\t[4, -2, 5],\n",
    "\t\t\t[2, 8, 7]])\n",
    "\n",
    "# Calculating the inverse of the matrix\n",
    "print(np.linalg.inv(A))\n"
   ]
  },
  {
   "cell_type": "code",
   "execution_count": 41,
   "metadata": {},
   "outputs": [
    {
     "name": "stdout",
     "output_type": "stream",
     "text": [
      "Unique Values: [ 8  9 10 20]\n",
      "Frequency Values: [3 1 2 2]\n"
     ]
    }
   ],
   "source": [
    "# import library\n",
    "import numpy as np\n",
    "\n",
    "ini_array = np.array([10, 20, 8,\n",
    "\t\t\t\t\t10, 8, 20,\n",
    "\t\t\t\t\t8, 9])\n",
    "\n",
    "# Get a tuple of unique values\n",
    "# and their frequency in\n",
    "# numpy array\n",
    "unique, frequency = np.unique(ini_array,\n",
    "\t\t\t\t\t\t\treturn_counts = True)\n",
    "# print unique values array\n",
    "print(\"Unique Values:\",\n",
    "\tunique)\n",
    "\n",
    "# print frequency array\n",
    "print(\"Frequency Values:\",\n",
    "\tfrequency)\n"
   ]
  },
  {
   "cell_type": "code",
   "execution_count": 42,
   "metadata": {},
   "outputs": [
    {
     "name": "stdout",
     "output_type": "stream",
     "text": [
      "Printing First matrix:\n",
      "[1.+2.j 8.+5.j]\n",
      "Printing Second matrix:\n",
      "[2.+5.j 1.+4.j]\n",
      "Product of first and second matrices are:\n",
      "(40+28j)\n"
     ]
    }
   ],
   "source": [
    "# importing numpy as library\n",
    "import numpy as np\n",
    "\n",
    "\n",
    "# creating matrix of complex number\n",
    "x = np.array([1+2j, 8+5j])\n",
    "print(\"Printing First matrix:\")\n",
    "print(x)\n",
    "\n",
    "y = np.array([2+5j, 1+4j])\n",
    "print(\"Printing Second matrix:\")\n",
    "print(y)\n",
    "\n",
    "# vector dot product of two matrices\n",
    "z = np.vdot(x, y)\n",
    "print(\"Product of first and second matrices are:\")\n",
    "print(z)\n"
   ]
  },
  {
   "cell_type": "code",
   "execution_count": 45,
   "metadata": {},
   "outputs": [
    {
     "name": "stdout",
     "output_type": "stream",
     "text": [
      "Original 3-D arrays:\n",
      "[[2 8 2]\n",
      " [3 4 8]\n",
      " [0 2 1]]\n",
      "[[2 1 1]\n",
      " [0 1 0]\n",
      " [2 3 0]]\n",
      "Outer Product of the two array is:\n",
      "[[ 4  2  2  0  2  0  4  6  0]\n",
      " [16  8  8  0  8  0 16 24  0]\n",
      " [ 4  2  2  0  2  0  4  6  0]\n",
      " [ 6  3  3  0  3  0  6  9  0]\n",
      " [ 8  4  4  0  4  0  8 12  0]\n",
      " [16  8  8  0  8  0 16 24  0]\n",
      " [ 0  0  0  0  0  0  0  0  0]\n",
      " [ 4  2  2  0  2  0  4  6  0]\n",
      " [ 2  1  1  0  1  0  2  3  0]]\n"
     ]
    }
   ],
   "source": [
    "# Importing library\n",
    "import numpy as np\n",
    "\n",
    "# Creating two 1-D arrays\n",
    "matrix1 = np.array([[2, 8, 2], [3, 4, 8], [0, 2, 1]])\n",
    "matrix2 = np.array([[2, 1, 1], [0, 1, 0], [2, 3, 0]])\n",
    "print(\"Original 3-D arrays:\")\n",
    "print(matrix1)\n",
    "print(matrix2)\n",
    "\n",
    "# Output\n",
    "print(\"Outer Product of the two array is:\")\n",
    "result = np.outer(matrix1, matrix2)\n",
    "print(result)\n"
   ]
  },
  {
   "cell_type": "code",
   "execution_count": 46,
   "metadata": {},
   "outputs": [
    {
     "name": "stdout",
     "output_type": "stream",
     "text": [
      "Vectors :\n",
      "a =  [2 6]\n",
      "\n",
      "b =  [ 3 10]\n",
      "\n",
      "Inner product of vectors a and b =\n",
      "66\n",
      "---------------------------------------\n",
      "\n",
      "Matrices :\n",
      "x = [[2 3 4]\n",
      " [3 2 9]]\n",
      "\n",
      "y = [[ 1  5  0]\n",
      " [ 5 10  3]]\n",
      "\n",
      "Inner product of matrices x and y =\n",
      "[[17 52]\n",
      " [13 62]]\n",
      "\n",
      "Outer product of matrices x and y =\n",
      "[[ 2 10  0 10 20  6]\n",
      " [ 3 15  0 15 30  9]\n",
      " [ 4 20  0 20 40 12]\n",
      " [ 3 15  0 15 30  9]\n",
      " [ 2 10  0 10 20  6]\n",
      " [ 9 45  0 45 90 27]]\n",
      "\n",
      "Cross product of matrices x and y =\n",
      "[[-20   4   7]\n",
      " [-84  36  20]]\n"
     ]
    }
   ],
   "source": [
    "# Python Program illustrating\n",
    "# numpy.inner() method\n",
    "import numpy as np\n",
    "\n",
    "# Vectors\n",
    "a = np.array([2, 6])\n",
    "b = np.array([3, 10])\n",
    "print(\"Vectors :\")\n",
    "print(\"a = \", a)\n",
    "print(\"\\nb = \", b)\n",
    "\n",
    "# Inner Product of Vectors\n",
    "print(\"\\nInner product of vectors a and b =\")\n",
    "print(np.inner(a, b))\n",
    "\n",
    "print(\"---------------------------------------\")\n",
    "\n",
    "# Matrices\n",
    "x = np.array([[2, 3, 4], [3, 2, 9]])\n",
    "y = np.array([[1, 5, 0], [5, 10, 3]])\n",
    "print(\"\\nMatrices :\")\n",
    "print(\"x =\", x)\n",
    "print(\"\\ny =\", y)\n",
    "\n",
    "# Inner product of matrices\n",
    "print(\"\\nInner product of matrices x and y =\")\n",
    "print(np.inner(x, y))\n",
    "  \n",
    "# Outer product of matrices\n",
    "print(\"\\nOuter product of matrices x and y =\")\n",
    "print(np.outer(x, y))\n",
    "  \n",
    "# Cross product of matrices\n",
    "print(\"\\nCross product of matrices x and y =\")\n",
    "print(np.cross(x, y))"
   ]
  },
  {
   "cell_type": "code",
   "execution_count": 48,
   "metadata": {},
   "outputs": [
    {
     "name": "stdout",
     "output_type": "stream",
     "text": [
      "[2 1 1 4]\n",
      "[2 2 1 1]\n",
      "\n",
      "Covariance matrix of the said arrays:\n",
      " [[ 2.         -0.33333333]\n",
      " [-0.33333333  0.33333333]]\n"
     ]
    }
   ],
   "source": [
    "import numpy as np\n",
    "\n",
    "\n",
    "array1 = np.array([2, 1, 1, 4])\n",
    "array2 = np.array([2, 2, 1, 1])\n",
    "  \n",
    "\n",
    "# Original array1\n",
    "print(array1)\n",
    "\n",
    "# Original array2\n",
    "print(array2)\n",
    "\n",
    "# Covariance matrix\n",
    "print(\"\\nCovariance matrix of the said arrays:\\n\",\n",
    "\tnp.cov(array1, array2))\n"
   ]
  },
  {
   "cell_type": "code",
   "execution_count": 19,
   "metadata": {},
   "outputs": [
    {
     "data": {
      "text/plain": [
       "array([[ 0.043 ,  0.0365, -0.0025,  0.    ],\n",
       "       [ 0.0365,  0.067 , -0.0025,  0.    ],\n",
       "       [-0.0025, -0.0025,  0.005 ,  0.    ],\n",
       "       [ 0.    ,  0.    ,  0.    ,  0.    ]])"
      ]
     },
     "execution_count": 19,
     "metadata": {},
     "output_type": "execute_result"
    }
   ],
   "source": [
    "import numpy as np\n",
    "import pandas as pd\n",
    "\n",
    "# loading in the iris dataset for demo purposes\n",
    "\n",
    "dataset = pd.read_csv(r'C:\\Users\\Hp\\Desktop\\iris.csv')\n",
    "dataset.head()\n",
    "data = dataset.iloc[:, :-1].values\n",
    "\n",
    "np.cov(data,rowvar=False)\n",
    "np.corrcoef(data,rowvar=False)\n",
    "\n",
    "\n",
    "\n",
    "\n"
   ]
  },
  {
   "cell_type": "code",
   "execution_count": 17,
   "metadata": {},
   "outputs": [
    {
     "name": "stdout",
     "output_type": "stream",
     "text": [
      "Array1:\n",
      " [[1 2]\n",
      " [3 4]]\n",
      "\n",
      "Array2:\n",
      " [[5 6]\n",
      " [7 8]]\n",
      "\n",
      "Array1 ⊗ Array2:\n",
      "[[ 5  6 10 12]\n",
      " [ 7  8 14 16]\n",
      " [15 18 20 24]\n",
      " [21 24 28 32]]\n"
     ]
    }
   ],
   "source": [
    "# Importing required modules\n",
    "import numpy\n",
    "\n",
    "# Creating arrays\n",
    "array1 = numpy.array([[1, 2], [3, 4]])\n",
    "print('Array1:\\n', array1)\n",
    "\n",
    "array2 = numpy.array([[5, 6], [7, 8]])\n",
    "print('\\nArray2:\\n', array2)\n",
    "\n",
    "# Computing the Kronecker Product\n",
    "kroneckerProduct = numpy.kron(array1, array2)\n",
    "print('\\nArray1 ⊗ Array2:')\n",
    "print(kroneckerProduct)\n"
   ]
  },
  {
   "cell_type": "code",
   "execution_count": 57,
   "metadata": {},
   "outputs": [
    {
     "name": "stdout",
     "output_type": "stream",
     "text": [
      "[[ 4  1 12  3]]\n"
     ]
    }
   ],
   "source": [
    "# import the important module in python\n",
    "import numpy as np\n",
    "\t\t\t\n",
    "# make matrix with numpy\n",
    "mat = np.matrix('[4, 1, 12, 3]')\n",
    "\t\t\t\n",
    "# applying matrix.tolist() method\n",
    "res = mat.tolist()\n",
    "\t\n",
    "print(mat)\n"
   ]
  },
  {
   "cell_type": "code",
   "execution_count": 1,
   "metadata": {},
   "outputs": [
    {
     "name": "stdout",
     "output_type": "stream",
     "text": [
      "[[1 2 3]\n",
      " [4 5 6]]\n",
      "Indices of elements <4\n",
      "(array([0], dtype=int64), array([0], dtype=int64))\n",
      "Elements which are <4\n",
      "[1]\n"
     ]
    }
   ],
   "source": [
    "# Python program explaining\n",
    "# where() function\n",
    "\n",
    "import numpy as np\n",
    "\n",
    "# a is an array of integers.\n",
    "a = np.array([[1, 2, 3], [4, 5, 6]])\n",
    "\n",
    "print(a)\n",
    "\n",
    "print ('Indices of elements <2')\n",
    "\n",
    "b = np.where(a<2)\n",
    "print(b)\n",
    "\n",
    "print(\"Elements which are <2\")\n",
    "print(a[b])\n"
   ]
  },
  {
   "cell_type": "code",
   "execution_count": 3,
   "metadata": {},
   "outputs": [
    {
     "name": "stdout",
     "output_type": "stream",
     "text": [
      "initial array [[1.3 2.5 3.6 nan]\n",
      " [2.6 3.3 nan 5.5]\n",
      " [2.1 3.2 5.4 6.5]]\n",
      "final array [[1.3 2.5 3.6 6. ]\n",
      " [2.6 3.3 4.5 5.5]\n",
      " [2.1 3.2 5.4 6.5]]\n",
      "columns mean [2.  3.  4.5 6. ]\n",
      "final array [[1.3 2.5 3.6 6. ]\n",
      " [2.6 3.3 4.5 5.5]\n",
      " [2.1 3.2 5.4 6.5]]\n"
     ]
    }
   ],
   "source": [
    "# Python code to demonstrate\n",
    "# to replace nan values\n",
    "# with average of columns\n",
    "\n",
    "import numpy as np\n",
    "\n",
    "# Initialising numpy array\n",
    "ini_array = np.array([[1.3, 2.5, 3.6, np.nan],\n",
    "\t\t\t\t\t[2.6, 3.3, np.nan, 5.5],\n",
    "\t\t\t\t\t[2.1, 3.2, 5.4, 6.5]])\n",
    "\n",
    "# printing initial array\n",
    "print (\"initial array\", ini_array)\n",
    "\n",
    "# replace nan with col means\n",
    "res = np.where(np.isnan(ini_array), np.ma.array(ini_array,\n",
    "\t\t\tmask = np.isnan(ini_array)).mean(axis = 0), ini_array)\n",
    "\n",
    "# printing final array\n",
    "print (\"final array\", res)\n",
    "\n",
    "# Python code to demonstrate\n",
    "# to replace nan values\n",
    "# with an average of columns\n",
    "\n",
    "\n",
    "# column mean\n",
    "col_mean = np.nanmean(ini_array, axis = 0)\n",
    "\n",
    "# printing column mean\n",
    "print (\"columns mean\", str(col_mean))\n",
    "\n",
    "# find indices where nan value is present\n",
    "inds = np.where(np.isnan(ini_array))\n",
    "\n",
    "# replace inds with avg of column\n",
    "ini_array[inds] = np.take(col_mean, inds[1])\n",
    "\n",
    "# printing final array\n",
    "print (\"final array\", ini_array)\n"
   ]
  },
  {
   "cell_type": "code",
   "execution_count": 4,
   "metadata": {},
   "outputs": [
    {
     "name": "stdout",
     "output_type": "stream",
     "text": [
      "initial array [ 12  24 -32  40 -15  -6]\n",
      "New resulting array:  [12 24  0 40  0  0]\n"
     ]
    }
   ],
   "source": [
    "# Python code to demonstrate\n",
    "# to replace negative values with 0\n",
    "import numpy as np\n",
    "\n",
    "ini_array1 = np.array([12, 24, -32, 40, -15, -6])\n",
    "\n",
    "# printing initial arrays\n",
    "print(\"initial array\", ini_array1)\n",
    "\n",
    "# code to replace all negative value with 0\n",
    "result = np.where(ini_array1<0, 0, ini_array1)\n",
    "\n",
    "# printing result\n",
    "print(\"New resulting array: \", result)\n"
   ]
  },
  {
   "cell_type": "code",
   "execution_count": 5,
   "metadata": {},
   "outputs": [
    {
     "name": "stdout",
     "output_type": "stream",
     "text": [
      "Array 1 :\n",
      "[1 2 3 4 5]\n",
      "Array 2 :\n",
      "[6 7 8]\n",
      "\n",
      "Take 1 and 15 from Array 2 and put them in1st and 5th position of Array 1\n",
      "Resultant Array :\n",
      "[6 2 3 4 7]\n"
     ]
    }
   ],
   "source": [
    "# Importing Numpy module\n",
    "import numpy as np\n",
    "\n",
    "# Creating 1-D Numpy array\n",
    "a1 = np.array([1, 2, 3, 4, 5])\n",
    "print(\"Array 1 :\")\n",
    "print(a1)\n",
    "\n",
    "a2 = np.array([6, 7, 8])\n",
    "print(\"Array 2 :\")\n",
    "print(a2)\n",
    "\n",
    "print(\"\\nTake 1 and 15 from Array 2 and put them in\\\n",
    "1st and 5th position of Array 1\")\n",
    "\n",
    "a1.put([0, 4], a2)\n",
    "\n",
    "print(\"Resultant Array :\")\n",
    "print(a1)\n"
   ]
  },
  {
   "cell_type": "code",
   "execution_count": 8,
   "metadata": {},
   "outputs": [
    {
     "name": "stdout",
     "output_type": "stream",
     "text": [
      "Original array:\n",
      "[[0 2 3]\n",
      " [0 1 0]\n",
      " [0 0 2]]\n",
      "\n",
      "Indices of null elements:\n",
      "[[0 0]\n",
      " [1 0]\n",
      " [1 2]\n",
      " [2 0]\n",
      " [2 1]]\n"
     ]
    }
   ],
   "source": [
    "# importing Numpy package\n",
    "import numpy as np\n",
    "\n",
    "# creating a 3-D Numpy array\n",
    "n_array = np.array([[0, 2, 3],\n",
    "\t\t\t\t\t[0, 1, 0],\n",
    "\t\t\t\t\t[0, 0, 2]])\n",
    "\n",
    "print(\"Original array:\")\n",
    "print(n_array)\n",
    "\n",
    "# finding indices of null elements\n",
    "# using np.argwhere()\n",
    "print(\"\\nIndices of null elements:\")\n",
    "res = np.argwhere(n_array == 0)\n",
    "\n",
    "print(res)\n"
   ]
  },
  {
   "cell_type": "code",
   "execution_count": 9,
   "metadata": {},
   "outputs": [
    {
     "name": "stdout",
     "output_type": "stream",
     "text": [
      "Given array:\n",
      "[[10.5 22.5  nan]\n",
      " [41.  52.5  nan]]\n",
      "\n",
      "Remove all columns containing non-numeric elements \n",
      "[[10.5 22.5]\n",
      " [41.  52.5]]\n"
     ]
    }
   ],
   "source": [
    "# Importing Numpy module\n",
    "import numpy as np\n",
    "\n",
    "# Creating 2X3 2-D Numpy array\n",
    "n_arr = np.array([[10.5, 22.5, np.nan],\n",
    "\t\t\t\t[41, 52.5, np.nan]])\n",
    "\n",
    "print(\"Given array:\")\n",
    "print(n_arr)\n",
    "\n",
    "print(\"\\nRemove all columns containing non-numeric elements \")\n",
    "print(n_arr[:, ~np.isnan(n_arr).any(axis=0)])\n"
   ]
  },
  {
   "cell_type": "code",
   "execution_count": 10,
   "metadata": {},
   "outputs": [
    {
     "name": "stdout",
     "output_type": "stream",
     "text": [
      "Given Array :\n",
      "[[10 20 30]\n",
      " [40  5 66]\n",
      " [70 88 94]]\n",
      "\n",
      "Accessed Rows :\n",
      "[[10 20 30]\n",
      " [70 88 94]]\n"
     ]
    }
   ],
   "source": [
    "# Importing Numpy module\n",
    "import numpy as np\n",
    "\n",
    "# Creating a 3X3 2-D Numpy array\n",
    "arr = np.array([[10, 20, 30],\n",
    "\t\t\t\t[40, 5, 66],\n",
    "\t\t\t\t[70, 88, 94]])\n",
    "\n",
    "print(\"Given Array :\")\n",
    "print(arr)\n",
    "\n",
    "# Access the First and Last rows of array\n",
    "res_arr = arr[[0,2]]\n",
    "print(\"\\nAccessed Rows :\")\n",
    "print(res_arr)\n"
   ]
  },
  {
   "cell_type": "code",
   "execution_count": 12,
   "metadata": {},
   "outputs": [
    {
     "name": "stdout",
     "output_type": "stream",
     "text": [
      "Given Array:\n",
      " [[ 1  2  3  4  5]\n",
      " [10 -3 30  4  5]\n",
      " [ 3  2  5 -4  5]\n",
      " [ 9  7  3  6  5]]\n",
      "Result:\n",
      " (array([1, 3], dtype=int64),)\n"
     ]
    }
   ],
   "source": [
    "# importing library\n",
    "import numpy\n",
    "\n",
    "# create numpy array\n",
    "arr = numpy.array([[1, 2, 3, 4, 5],\n",
    "\t\t\t\t[10, -3, 30, 4, 5],\n",
    "\t\t\t\t[3, 2, 5, -4, 5],\n",
    "\t\t\t\t[9, 7, 3, 6, 5]\n",
    "\t\t\t\t])\n",
    "\n",
    "# declare specified value\n",
    "X = 5\n",
    "\n",
    "# view array\n",
    "print(\"Given Array:\\n\", arr)\n",
    "\n",
    "# finding out the row numbers\n",
    "output = numpy.where(numpy.any(arr > X,\n",
    "\t\t\t\t\t\t\t\taxis = 1))\n",
    "\n",
    "# view output\n",
    "print(\"Result:\\n\", output)\n"
   ]
  },
  {
   "cell_type": "code",
   "execution_count": 13,
   "metadata": {},
   "outputs": [
    {
     "name": "stdout",
     "output_type": "stream",
     "text": [
      "[[  5 200]\n",
      " [300   5]]\n"
     ]
    }
   ],
   "source": [
    "# import numpy\n",
    "import numpy as np\n",
    "\n",
    "# using numpy.fill_diagonal() method\n",
    "array = np.array([[100, 200], [300, 400]])\n",
    "np.fill_diagonal(array, 5)\n",
    "\n",
    "print(array)\n"
   ]
  },
  {
   "cell_type": "code",
   "execution_count": 14,
   "metadata": {},
   "outputs": [
    {
     "name": "stdout",
     "output_type": "stream",
     "text": [
      "[ True  True False False False]\n"
     ]
    }
   ],
   "source": [
    "# import numpy\n",
    "import numpy as np\n",
    "\n",
    "# using numpy.isin() method\n",
    "arr = np.array([1, 2, 3, 4, 5])\n",
    "lis = [1, 2]\n",
    "res = np.isin(arr, lis)\n",
    "\n",
    "print(res)\n"
   ]
  },
  {
   "cell_type": "code",
   "execution_count": 15,
   "metadata": {},
   "outputs": [
    {
     "name": "stdout",
     "output_type": "stream",
     "text": [
      "[[[1 4]\n",
      "  [2 5]\n",
      "  [3 6]]]\n"
     ]
    }
   ],
   "source": [
    "# import numpy\n",
    "import numpy as np\n",
    "\n",
    "arr1 = np.array([1, 2, 3])\n",
    "arr2 = np.array([4, 5, 6])\n",
    "\n",
    "# using numpy.dstack() method\n",
    "print(np.dstack((arr1, arr2)))\n"
   ]
  },
  {
   "cell_type": "code",
   "execution_count": 16,
   "metadata": {},
   "outputs": [
    {
     "name": "stdout",
     "output_type": "stream",
     "text": [
      "Vector norm:\n",
      "16.881943016134134\n"
     ]
    }
   ],
   "source": [
    "# import library\n",
    "import numpy as np\n",
    "\n",
    "# initialize vector\n",
    "vec = np.arange(10)\n",
    "\n",
    "# compute norm of vector\n",
    "vec_norm = np.linalg.norm(vec)\n",
    "\n",
    "print(\"Vector norm:\")\n",
    "print(vec_norm)\n"
   ]
  },
  {
   "cell_type": "code",
   "execution_count": 17,
   "metadata": {},
   "outputs": [
    {
     "name": "stdout",
     "output_type": "stream",
     "text": [
      "[[1 2 3]\n",
      " [4 5 6]]\n",
      "\n",
      "Q:\n",
      " [[-0.24253563 -0.9701425 ]\n",
      " [-0.9701425   0.24253563]]\n",
      "\n",
      "R:\n",
      " [[-4.12310563 -5.33578375 -6.54846188]\n",
      " [ 0.         -0.72760688 -1.45521375]]\n"
     ]
    }
   ],
   "source": [
    "import numpy as np\n",
    "\n",
    "\n",
    "# Original matrix\n",
    "matrix1 = np.array([[1, 2, 3], [4, 5, 6]])\n",
    "print(matrix1)\n",
    "\n",
    "# Decomposition of the said matrix\n",
    "q, r = np.linalg.qr(matrix1)\n",
    "print('\\nQ:\\n', q)\n",
    "print('\\nR:\\n', r)\n"
   ]
  },
  {
   "cell_type": "code",
   "execution_count": 18,
   "metadata": {},
   "outputs": [
    {
     "name": "stdout",
     "output_type": "stream",
     "text": [
      "Original matrix:\n",
      "[[4 2]\n",
      " [3 1]]\n",
      "Condition number of the matrix:\n",
      "14.933034373659254\n"
     ]
    }
   ],
   "source": [
    "# Importing library\n",
    "import numpy as np\n",
    "\n",
    "# Creating a 2X2 matrix\n",
    "matrix = np.array([[4, 2], [3, 1]])\n",
    "\n",
    "print(\"Original matrix:\")\n",
    "print(matrix)\n",
    "\n",
    "# Output\n",
    "result = np.linalg.cond(matrix)\n",
    "\n",
    "print(\"Condition number of the matrix:\")\n",
    "print(result)\n"
   ]
  },
  {
   "cell_type": "code",
   "execution_count": 22,
   "metadata": {},
   "outputs": [
    {
     "name": "stdout",
     "output_type": "stream",
     "text": [
      "Printing the Original square array:\n",
      " [[11 12]\n",
      " [13 14]]\n",
      "Printing the Eigen values of the given square array:\n",
      " [-0.07974563 25.07974563]\n",
      "Printing Right eigenvectors of the given square array:\n",
      " [[-0.73471731 -0.64865885]\n",
      " [ 0.67837341 -0.7610793 ]]\n"
     ]
    }
   ],
   "source": [
    "# importing numpy library\n",
    "import numpy as np\n",
    "\n",
    "# create numpy 2d-array\n",
    "m = np.array([[11, 12],\n",
    "\t\t\t[13, 14]])\n",
    "\n",
    "print(\"Printing the Original square array:\\n\",\n",
    "\tm)\n",
    "\n",
    "# finding eigenvalues and eigenvectors\n",
    "w, v = np.linalg.eig(m)\n",
    "\n",
    "# printing eigen values\n",
    "print(\"Printing the Eigen values of the given square array:\\n\",\n",
    "\tw)\n",
    "\n",
    "# printing eigen vectors\n",
    "print(\"Printing Right eigenvectors of the given square array:\\n\",\n",
    "\tv)\n"
   ]
  },
  {
   "cell_type": "code",
   "execution_count": 78,
   "metadata": {},
   "outputs": [
    {
     "name": "stdout",
     "output_type": "stream",
     "text": [
      "2.23606797749979\n",
      "2.23606797749979\n"
     ]
    }
   ],
   "source": [
    "# Python code to find Euclidean distance\n",
    "# using sum() and square()\n",
    "\n",
    "import numpy as np\n",
    "\n",
    "# initializing points in\n",
    "# numpy arrays\n",
    "point1 = np.array((1, 2, 3))\n",
    "point2 = np.array((1, 1, 1))\n",
    "\n",
    "# finding sum of squares\n",
    "sum_sq = np.sum(np.square(point1 - point2))\n",
    "\n",
    "# Doing squareroot and\n",
    "# printing Euclidean distance\n",
    "print(np.sqrt(sum_sq))\n",
    "\n",
    "# Python code to find Euclidean distance\n",
    "# using linalg.norm()\n",
    "\n",
    "# calculating Euclidean distance\n",
    "# using linalg.norm()\n",
    "dist = np.linalg.norm(point1 - point2)\n",
    "\n",
    "# printing Euclidean distance\n",
    "print(dist)\n"
   ]
  },
  {
   "cell_type": "code",
   "execution_count": 1,
   "metadata": {},
   "outputs": [
    {
     "name": "stdout",
     "output_type": "stream",
     "text": [
      "Original array: [0 1 2 3 4]\n",
      "After the element-wise division: [0.  0.5 1.  1.5 2. ]\n"
     ]
    }
   ],
   "source": [
    "#mathematics\n",
    "# import library\n",
    "import numpy as np\n",
    "\n",
    "# create 1d-array\n",
    "x = np.arange(5)\n",
    "\n",
    "print(\"Original array:\",\n",
    "\tx)\n",
    "\n",
    "# apply true division\n",
    "# on each array element\n",
    "rslt = np.true_divide(x, 2)\n",
    "\n",
    "print(\"After the element-wise division:\",\n",
    "\trslt)\n"
   ]
  },
  {
   "cell_type": "code",
   "execution_count": 2,
   "metadata": {},
   "outputs": [
    {
     "name": "stdout",
     "output_type": "stream",
     "text": [
      "Given array:\n",
      " [-10 -21   3]\n",
      "Absolute array:\n",
      " [10 21  3]\n"
     ]
    }
   ],
   "source": [
    "# import library\n",
    "import numpy as np\n",
    "\n",
    "# create a numpy 1d-array\n",
    "array = np.array([-10, -21, 3])\n",
    "\n",
    "print(\"Given array:\\n\", array)\n",
    "\n",
    "# find element-wise\n",
    "# absolute value\n",
    "rslt = np.absolute(array)\n",
    "\n",
    "print(\"Absolute array:\\n\", rslt)\n"
   ]
  },
  {
   "cell_type": "code",
   "execution_count": 4,
   "metadata": {},
   "outputs": [
    {
     "name": "stdout",
     "output_type": "stream",
     "text": [
      "Input number :  100\n",
      "negative of input number :  -100\n"
     ]
    }
   ],
   "source": [
    "# Python program explaining\n",
    "# numpy.negative() function\n",
    "\n",
    "import numpy as np\n",
    "in_num = 100\n",
    "\n",
    "print (\"Input number : \", in_num)\n",
    "\t\n",
    "out_num = np.negative(in_num)\n",
    "print (\"negative of input number : \", out_num)\n"
   ]
  },
  {
   "cell_type": "code",
   "execution_count": 5,
   "metadata": {},
   "outputs": [
    {
     "name": "stdout",
     "output_type": "stream",
     "text": [
      "initial array [[1 2 3]\n",
      " [2 4 5]\n",
      " [1 2 3]]\n",
      "New resulting array:  [[ 0  0  0]\n",
      " [ 4  8 10]\n",
      " [ 3  6  9]]\n"
     ]
    }
   ],
   "source": [
    "# Python code to demonstrate\n",
    "# multiplication of 2d array\n",
    "# with 1d array\n",
    "\n",
    "import numpy as np\n",
    "\n",
    "array1 = np.array([[1, 2, 3], [2, 4, 5], [1, 2, 3]])\n",
    "array2 = np.array([0, 2, 3])\n",
    "\n",
    "# printing initial arrays\n",
    "print(\"initial array\", str(array1))\n",
    "\n",
    "# Multiplying arrays\n",
    "result = array1 * array2[:, np.newaxis]\n",
    "\n",
    "# printing result\n",
    "print(\"New resulting array: \", result)\n"
   ]
  },
  {
   "cell_type": "code",
   "execution_count": 6,
   "metadata": {},
   "outputs": [
    {
     "name": "stdout",
     "output_type": "stream",
     "text": [
      "initial array [[1 2 3]\n",
      " [2 4 5]\n",
      " [1 2 3]]\n",
      "New resulting array:  [[ 0  0  0]\n",
      " [ 4  8 10]\n",
      " [ 3  6  9]]\n"
     ]
    }
   ],
   "source": [
    "# python code to demonstrate\n",
    "# multiplication of 2d array\n",
    "# with 1d array\n",
    "\n",
    "import numpy as np\n",
    "\n",
    "ini_array1 = np.array([[1, 2, 3], [2, 4, 5], [1, 2, 3]])\n",
    "ini_array2 = np.array([0, 2, 3])\n",
    "\n",
    "# printing initial arrays\n",
    "print(\"initial array\", str(ini_array1))\n",
    "\n",
    "# Multiplying arrays\n",
    "result = (ini_array1.T * ini_array2).T\n",
    "\n",
    "# printing result\n",
    "print(\"New resulting array: \", result)\n"
   ]
  },
  {
   "cell_type": "code",
   "execution_count": 7,
   "metadata": {},
   "outputs": [
    {
     "name": "stdout",
     "output_type": "stream",
     "text": [
      "arr :  [[14, 17, 12, 33, 44], [15, 6, 27, 8, 19], [23, 2, 54, 1, 4]]\n",
      "\n",
      "50th Percentile of arr, axis = None :  15.0\n",
      "0th Percentile of arr, axis = None :  1.0\n",
      "\n",
      "50th Percentile of arr, axis = 0 :  [15.  6. 27.  8. 19.]\n",
      "0th Percentile of arr, axis = 0 :  [14.  2. 12.  1.  4.]\n"
     ]
    }
   ],
   "source": [
    "# Python Program illustrating\n",
    "# numpy.percentile() method\n",
    "\n",
    "import numpy as np\n",
    "\n",
    "# 1D array\n",
    "arr = [[14, 17, 12, 33, 44], \n",
    "       [15, 6, 27, 8, 19],\n",
    "       [23, 2, 54, 1, 4,]]\n",
    "print(\"arr : \", arr)\n",
    "\n",
    "# Percentile of the flattened array\n",
    "print(\"\\n50th Percentile of arr, axis = None : \",\n",
    "      np.percentile(arr, 50))\n",
    "print(\"0th Percentile of arr, axis = None : \",\n",
    "      np.percentile(arr, 0))\n",
    "    \n",
    "# Percentile along the axis = 0\n",
    "print(\"\\n50th Percentile of arr, axis = 0 : \",\n",
    "      np.percentile(arr, 50, axis =0))\n",
    "print(\"0th Percentile of arr, axis = 0 : \",\n",
    "      np.percentile(arr, 0, axis =0))"
   ]
  },
  {
   "cell_type": "code",
   "execution_count": 8,
   "metadata": {},
   "outputs": [
    {
     "name": "stdout",
     "output_type": "stream",
     "text": [
      "Input array :  [1 3 4 7 9]\n",
      "First order difference :  [2 1 3 2]\n",
      "Second order difference :  [-1  2 -1]\n",
      "Third order difference :  [ 3 -3]\n"
     ]
    }
   ],
   "source": [
    "# Python program explaining\n",
    "# numpy.diff() method\n",
    "\n",
    "\n",
    "# importing numpy\n",
    "import numpy as np\n",
    "# input array\n",
    "arr = np.array([1, 3, 4, 7, 9])\n",
    "\n",
    "print(\"Input array : \", arr)\n",
    "print(\"First order difference : \", np.diff(arr))\n",
    "print(\"Second order difference : \", np.diff(arr, n = 2))\n",
    "print(\"Third order difference : \", np.diff(arr, n = 3))\n"
   ]
  },
  {
   "cell_type": "code",
   "execution_count": 9,
   "metadata": {},
   "outputs": [
    {
     "name": "stdout",
     "output_type": "stream",
     "text": [
      "2D Array:\n",
      "[[ 1  2  3]\n",
      " [ 4  5  6]\n",
      " [ 7  8  9]\n",
      " [10 11 12]]\n",
      "\n",
      "Column-wise Sum:\n",
      "[22 26 30]\n"
     ]
    }
   ],
   "source": [
    "# importing required libraries\n",
    "import numpy\n",
    "\n",
    "# creating the 2D Array\n",
    "TwoDList = [[1, 2, 3], [4, 5, 6],\n",
    "\t\t\t[7, 8, 9], [10, 11, 12]]\n",
    "TwoDArray = numpy.array(TwoDList)\n",
    "\n",
    "# displaying the 2D Array\n",
    "print(\"2D Array:\")\n",
    "print(TwoDArray)\n",
    "\n",
    "# printing the sum of each column\n",
    "print(\"\\nColumn-wise Sum:\")\n",
    "print(numpy.sum(TwoDArray, axis = 0))\n"
   ]
  },
  {
   "cell_type": "code",
   "execution_count": 10,
   "metadata": {},
   "outputs": [
    {
     "name": "stdout",
     "output_type": "stream",
     "text": [
      "2D Array:\n",
      "[[10 20 30]\n",
      " [42 45 36]\n",
      " [ 7 81 99]\n",
      " [15 41 32]]\n",
      "\n",
      "Column-wise Sum:\n",
      "74 187 197 "
     ]
    }
   ],
   "source": [
    "# importing required libraries\n",
    "import numpy\n",
    "\n",
    "# explicit function to compute column wise sum\n",
    "def colsum(arr, n, m):\n",
    "\tfor i in range(n):\n",
    "\t\tsu = 0;\n",
    "\t\tfor j in range(m):\n",
    "\t\t\tsu += arr[j][i]\n",
    "\t\tprint(su, end = \" \")\n",
    "\n",
    "# creating the 2D Array\n",
    "TwoDList = [[10, 20, 30], [42, 45, 36],\n",
    "\t\t\t[7, 81, 99], [15, 41, 32]]\n",
    "TwoDArray = numpy.array(TwoDList)\n",
    "\n",
    "# displaying the 2D Array\n",
    "print(\"2D Array:\")\n",
    "print(TwoDArray)\n",
    "\n",
    "# printing the sum of each column\n",
    "print(\"\\nColumn-wise Sum:\")\n",
    "colsum(TwoDArray, len(TwoDArray[0]), len(TwoDArray))\n"
   ]
  },
  {
   "cell_type": "code",
   "execution_count": 11,
   "metadata": {},
   "outputs": [
    {
     "name": "stdout",
     "output_type": "stream",
     "text": [
      "Average of NumPy arrays:\n",
      " [[2. 2.]\n",
      " [7. 4.]]\n"
     ]
    }
   ],
   "source": [
    "# import library\n",
    "import numpy as np\n",
    "\n",
    "# create a numpy 2d-arrays\n",
    "arr1 = np.array([[3, 4], [8, 2]])\n",
    "arr2 = np.array([[1, 0], [6, 6]])\n",
    "\n",
    "# find average of NumPy arrays\n",
    "avg = (arr1 + arr2) / 2\n",
    "\n",
    "print(\"Average of NumPy arrays:\\n\",\n",
    "\tavg)\n"
   ]
  },
  {
   "cell_type": "code",
   "execution_count": 12,
   "metadata": {},
   "outputs": [
    {
     "name": "stdout",
     "output_type": "stream",
     "text": [
      "Printing the Original array: [  1 -20  -3   1   2  -4   0]\n",
      "Printing the negative value of the given array: [-1 20  3 -1 -2  4  0]\n"
     ]
    }
   ],
   "source": [
    "# importing library\n",
    "import numpy as np\n",
    "\n",
    "# creating a array\n",
    "x = np.array([1, -20, -3,\n",
    "\t\t\t1, 2, -4, 0])\n",
    "\n",
    "print(\"Printing the Original array:\",\n",
    "\tx)\n",
    "\n",
    "# converting array elements to\n",
    "# its corresponding negative value\n",
    "r1 = np.negative(x)\n",
    "\n",
    "print(\"Printing the negative value of the given array:\",\n",
    "\tr1)\n"
   ]
  },
  {
   "cell_type": "code",
   "execution_count": 13,
   "metadata": {},
   "outputs": [
    {
     "name": "stdout",
     "output_type": "stream",
     "text": [
      "[ 1.8 -1.6 -0.6  0.5  1.6  1.8  3. ]\n",
      "\n",
      "Floor values : \n",
      " [ 1. -2. -1.  0.  1.  1.  3.]\n",
      "\n",
      "Ceil values : \n",
      " [ 2. -1. -0.  1.  2.  2.  3.]\n",
      "\n",
      "Truncated values : \n",
      " [ 1. -1. -0.  0.  1.  1.  3.]\n"
     ]
    }
   ],
   "source": [
    "import numpy as np\n",
    "\n",
    "\n",
    "input_arr = np.array([1.8, -1.6, -0.6, 0.5,\n",
    "\t\t\t\t\t1.6, 1.8, 3.0])\n",
    "print(input_arr)\n",
    "\n",
    "floor_values = np.floor(input_arr)\n",
    "print(\"\\nFloor values : \\n\", floor_values)\n",
    "\n",
    "ceil_values = np.ceil(input_arr)\n",
    "print(\"\\nCeil values : \\n\", ceil_values)\n",
    "\n",
    "trunc_values = np.trunc(input_arr)\n",
    "print(\"\\nTruncated values : \\n\", trunc_values)\n"
   ]
  },
  {
   "cell_type": "code",
   "execution_count": 14,
   "metadata": {},
   "outputs": [
    {
     "name": "stdout",
     "output_type": "stream",
     "text": [
      "Original array: [ -0.9   0.2  -1.8  -5.2  -7.1 -19.7]\n",
      "After rounding off: [ -1.   0.  -2.  -5.  -7. -20.]\n"
     ]
    }
   ],
   "source": [
    "import numpy as n\n",
    "\n",
    "# create array\n",
    "y = n.array([-0.9, 0.2, -1.8, -5.2, -7.1, -19.7])\n",
    "print(\"Original array:\", end=\" \")\n",
    "print(y)\n",
    "\n",
    "# rount to nearest integer\n",
    "y = n.rint(y)\n",
    "print(\"After rounding off:\", end=\" \")\n",
    "print(y)\n"
   ]
  },
  {
   "cell_type": "code",
   "execution_count": 15,
   "metadata": {},
   "outputs": [
    {
     "name": "stdout",
     "output_type": "stream",
     "text": [
      "[[1. 2.]\n",
      " [5. 6.]\n",
      " [7. 9.]]\n"
     ]
    }
   ],
   "source": [
    "# import the important module in python\n",
    "import numpy as np\n",
    "\t\t\n",
    "# make a matrix with numpy\n",
    "mat = np.matrix('[1.2, 2.3; 4.7, 5.5; 7.2, 8.9]')\n",
    "\t\t\n",
    "# applying matrix.round() method\n",
    "res = mat.round()\n",
    "\t\n",
    "print(res)\n"
   ]
  },
  {
   "cell_type": "code",
   "execution_count": 16,
   "metadata": {},
   "outputs": [
    {
     "name": "stdout",
     "output_type": "stream",
     "text": [
      "square-root of an array :  [2.        +0.j         0.        +1.j         1.62721083+2.76546833j]\n",
      "square-root of an array2  :  [2.44948974 3.16227766 4.24264069]\n"
     ]
    }
   ],
   "source": [
    "# Python program explaining\n",
    "# numpy.sqrt() method\n",
    "\n",
    "# importing numpy\n",
    "import numpy as np\n",
    "\n",
    "# applying sqrt() method on complex numbers\n",
    "arr = np.sqrt([4, -1, -5 + 9J])\n",
    "arr2 = geek.sqrt([6, 10, 18])\n",
    "\n",
    "print(\"square-root of an array : \", arr)\n",
    "print(\"square-root of an array2  : \", arr2)\n"
   ]
  },
  {
   "cell_type": "code",
   "execution_count": 17,
   "metadata": {},
   "outputs": [
    {
     "name": "stdout",
     "output_type": "stream",
     "text": [
      "Original matrix:\n",
      "[[1 2 3 5]\n",
      " [4 4 0 2]\n",
      " [0 1 6 8]\n",
      " [0 5 6 9]]\n",
      "[[0 1 9 2]\n",
      " [3 3 4 4]\n",
      " [1 8 3 0]\n",
      " [5 2 1 6]]\n",
      "Einstein’s summation convention of the two matrix:\n",
      "[[34 41 31 40]\n",
      " [22 20 54 36]\n",
      " [49 67 30 52]\n",
      " [66 81 47 74]]\n"
     ]
    }
   ],
   "source": [
    "# Importing library\n",
    "import numpy as np\n",
    "\n",
    "# Creating two 4X4 matrix\n",
    "matrix1 = np.array([[1, 2, 3, 5], [4, 4, 0, 2],\n",
    "\t\t\t\t\t[0, 1, 6, 8], [0, 5, 6, 9]])\n",
    "\n",
    "matrix2 = np.array([[0, 1, 9, 2], [3, 3, 4, 4],\n",
    "\t\t\t\t\t[1, 8, 3, 0], [5, 2, 1, 6]])\n",
    "\n",
    "print(\"Original matrix:\")\n",
    "print(matrix1)\n",
    "print(matrix2)\n",
    "\n",
    "# Output\n",
    "result = np.einsum(\"mk,kn\", matrix1, matrix2)\n",
    "\n",
    "print(\"Einstein’s summation convention of the two matrix:\")\n",
    "print(result)\n"
   ]
  },
  {
   "cell_type": "code",
   "execution_count": 19,
   "metadata": {},
   "outputs": [
    {
     "name": "stdout",
     "output_type": "stream",
     "text": [
      "Original Array :\n",
      "['I' 'am' 'Shwetali']\n",
      "\n",
      "New array :\n",
      "['II' 'amam' 'ShwetaliShwetali']\n"
     ]
    }
   ],
   "source": [
    "#strings\n",
    "# importing the module\n",
    "import numpy as np\n",
    "\n",
    "# created array of strings\n",
    "arr = np.array(['I', 'am', 'Shwetali'])\n",
    "print(\"Original Array :\")\n",
    "print(arr)\n",
    "\n",
    "# with the help of np.char.multiply()\n",
    "# repeating the characters 3 times\n",
    "new_array = np.char.multiply(arr, 2)\n",
    "print(\"\\nNew array :\")\n",
    "print(new_array)\n"
   ]
  },
  {
   "cell_type": "code",
   "execution_count": 20,
   "metadata": {},
   "outputs": [
    {
     "name": "stdout",
     "output_type": "stream",
     "text": [
      "['I LIVE IN PUNE']\n",
      "[list(['I', 'LIVE', 'IN', 'PUNE'])]\n"
     ]
    }
   ],
   "source": [
    "import numpy as np\n",
    "\n",
    "\n",
    "# Original Array\n",
    "array = np.array(['I LIVE IN PUNE'], dtype=np.str)\n",
    "print(array)\n",
    "\n",
    "# Split the element of the said array\n",
    "# with spaces\n",
    "sparr = np.char.split(array)\n",
    "print(sparr)\n"
   ]
  },
  {
   "cell_type": "code",
   "execution_count": 21,
   "metadata": {},
   "outputs": [
    {
     "name": "stdout",
     "output_type": "stream",
     "text": [
      "Printing the Original Array:\n",
      "['MIT' 'ACADEMY' 'OF' 'ENGINEERING']\n",
      "Printing the array after inserting spacebetween the elements\n",
      "['M I T' 'A C A D E M Y' 'O F' 'E N G I N E E R I N G']\n"
     ]
    }
   ],
   "source": [
    "# importing numpy as np\n",
    "import numpy as np\n",
    "\n",
    "\n",
    "# creating array of string\n",
    "x = np.array([\"MIT\", \"ACADEMY\", \"OF\",\"ENGINEERING\"],\n",
    "\t\t\tdtype=np.str)\n",
    "print(\"Printing the Original Array:\")\n",
    "print(x)\n",
    "\n",
    "# inserting space using np.char.join()\n",
    "r = np.char.join(\" \", x)\n",
    "print(\"Printing the array after inserting space\\\n",
    "between the elements\")\n",
    "print(r)\n"
   ]
  },
  {
   "cell_type": "code",
   "execution_count": 23,
   "metadata": {},
   "outputs": [
    {
     "name": "stdout",
     "output_type": "stream",
     "text": [
      "['Pune' 'Mumbai' 'Goa' 'Chennai']\n",
      "[4 6 3 7]\n"
     ]
    }
   ],
   "source": [
    "# importing the numpy library as np\n",
    "import numpy as np\n",
    "\n",
    "# Create a numpy array\n",
    "arr = np.array(['Pune', 'Mumbai', 'Goa', 'Chennai'])\n",
    "\n",
    "# Print the array\n",
    "print(arr)\n",
    "# Use vectorize function of numpy\n",
    "length_checker = np.vectorize(len)\n",
    "\n",
    "# Find the length of each element\n",
    "arr_len = length_checker(arr)\n",
    "\n",
    "# Print the length of each element\n",
    "print(arr_len)\n"
   ]
  },
  {
   "cell_type": "code",
   "execution_count": 24,
   "metadata": {},
   "outputs": [
    {
     "name": "stdout",
     "output_type": "stream",
     "text": [
      "input array :  ['Delhi' 'Is' 'cAPITAL' 'OF' 'iNDIA']\n",
      "output swapcasecased array : ['dELHI' 'iS' 'Capital' 'of' 'India']\n"
     ]
    }
   ],
   "source": [
    "# Python Program explaining\n",
    "# numpy.char.swapcase() function\n",
    "\n",
    "import numpy as np\n",
    "\n",
    "\n",
    "in_arr = np.array(['Delhi', 'Is', 'cAPITAL','OF','iNDIA'])\n",
    "\n",
    "print (\"input array : \", in_arr)\n",
    "\n",
    "out_arr = np.char.swapcase(in_arr)\n",
    "print (\"output swapcasecased array :\", out_arr )\n"
   ]
  },
  {
   "cell_type": "code",
   "execution_count": 25,
   "metadata": {},
   "outputs": [
    {
     "name": "stdout",
     "output_type": "stream",
     "text": [
      "input array :  ['shwetali' 'desai']\n",
      "output uppercased array : ['SHWETALI' 'DESAI']\n"
     ]
    }
   ],
   "source": [
    "# Python Program explaining\n",
    "# numpy.char.upper() function\n",
    "\n",
    "import numpy as np\n",
    "\n",
    "in_arr = np.array(['shwetali', 'desai'])\n",
    "\n",
    "print (\"input array : \", in_arr)\n",
    "\n",
    "out_arr = np.char.upper(in_arr)\n",
    "print (\"output uppercased array :\", out_arr )\n"
   ]
  },
  {
   "cell_type": "code",
   "execution_count": 26,
   "metadata": {},
   "outputs": [
    {
     "name": "stdout",
     "output_type": "stream",
     "text": [
      "input array :  ['SHWETALI' 'DESAI']\n",
      "output lowercased array : ['shwetali' 'desai']\n"
     ]
    }
   ],
   "source": [
    "# Python Program explaining\n",
    "# numpy.char.lower() function\n",
    "\n",
    "import numpy as geek\n",
    "\n",
    "\n",
    "in_arr = geek.array(['SHWETALI', 'DESAI'])\n",
    "\n",
    "print (\"input array : \", in_arr)\n",
    "\n",
    "out_arr = geek.char.lower(in_arr)\n",
    "print (\"output lowercased array :\", out_arr )\n"
   ]
  },
  {
   "cell_type": "code",
   "execution_count": 27,
   "metadata": {},
   "outputs": [
    {
     "name": "stdout",
     "output_type": "stream",
     "text": [
      "Input original array :  ['I' 'AM' 'INDIAN']\n",
      "Output joined array:  ['I' 'A-M' 'I+N+D+I+A+N']\n"
     ]
    }
   ],
   "source": [
    "# Python program explaining\n",
    "# numpy.core.defchararray.join() method\n",
    "\n",
    "import numpy as np\n",
    "\n",
    "\n",
    "in_arr = np.array(['I','AM','INDIAN'])\n",
    "\n",
    "\n",
    "\n",
    "print (\"Input original array : \", in_arr)\n",
    "\n",
    "# creating the separator\n",
    "sep = geek.array(['/', '-', '+'])\n",
    "\n",
    "\n",
    "out_arr = geek.core.defchararray.join(sep, in_arr)\n",
    "print (\"Output joined array: \", out_arr)\n"
   ]
  },
  {
   "cell_type": "code",
   "execution_count": 28,
   "metadata": {},
   "outputs": [
    {
     "name": "stdout",
     "output_type": "stream",
     "text": [
      "1st Input array :  ['Geeks' 'for' 'Geeks']\n",
      "2nd Input array :  ['Geek' 'for' 'Geek']\n",
      "Output array:  [ True False  True]\n"
     ]
    }
   ],
   "source": [
    "# Python program explaining\n",
    "# numpy.char.not_equal() method\n",
    "\n",
    "# importing numpy\n",
    "import numpy as np\n",
    "\n",
    "# input arrays\n",
    "in_arr1 = np.array(['Geeks', 'for', 'Geeks'])\n",
    "print (\"1st Input array : \", in_arr1)\n",
    "\n",
    "in_arr2 = np.array(['Geek', 'for', 'Geek'])\n",
    "print (\"2nd Input array : \", in_arr2)\n",
    "\n",
    "# checking if they are not equal\n",
    "out_arr = np.char.not_equal(in_arr1, in_arr2)\n",
    "print (\"Output array: \", out_arr)\n"
   ]
  },
  {
   "cell_type": "code",
   "execution_count": 31,
   "metadata": {},
   "outputs": [
    {
     "name": "stdout",
     "output_type": "stream",
     "text": [
      "Input array :  ['Shweta' ' Shwetali ' 'ShreyaSh']\n",
      "Output array:  [1 1 2]\n"
     ]
    }
   ],
   "source": [
    "# Python program explaining\n",
    "# numpy.char.count() method\n",
    "\n",
    "# importing numpy as np\n",
    "import numpy as np\n",
    "\n",
    "# input arrays\n",
    "in_arr = np.array(['Shweta', ' Shwetali ', 'ShreyaSh'])\n",
    "print (\"Input array : \", in_arr)\n",
    "\n",
    "# output arrays\n",
    "out_arr = geek.char.count(in_arr, sub ='Sh')\n",
    "print (\"Output array: \", out_arr)\n"
   ]
  },
  {
   "cell_type": "code",
   "execution_count": 32,
   "metadata": {},
   "outputs": [
    {
     "name": "stdout",
     "output_type": "stream",
     "text": [
      "Input array :  ['aAaAaA' 'aA' 'abBABba']\n",
      "Output array:  [ 4 -1  6]\n"
     ]
    }
   ],
   "source": [
    "# Python program explaining\n",
    "# numpy.char.find() method\n",
    "\n",
    "# importing numpy as geek\n",
    "import numpy as np\n",
    "\n",
    "# input arrays\n",
    "in_arr = np.array(['aAaAaA', 'aA', 'abBABba'])\n",
    "print (\"Input array : \", in_arr)\n",
    "\n",
    "# output arrays\n",
    "out_arr = np.char.find(in_arr, sub ='a', start = 3, end = 7)\n",
    "print (\"Output array: \", out_arr)\n"
   ]
  },
  {
   "cell_type": "code",
   "execution_count": 33,
   "metadata": {},
   "outputs": [
    {
     "name": "stdout",
     "output_type": "stream",
     "text": [
      "[[ True  True False]\n",
      " [ True  True False]]\n"
     ]
    }
   ],
   "source": [
    "# import numpy\n",
    "import numpy as np\n",
    "\n",
    "# using np.char.endswith() method\n",
    "a = np.array([['beggar', 'teacher', 'man'], ['mother', 'author', 'maths']])\n",
    "gfg = np.char.endswith(a, 'r')\n",
    "\n",
    "print(gfg)\n"
   ]
  },
  {
   "cell_type": "code",
   "execution_count": 34,
   "metadata": {},
   "outputs": [
    {
     "name": "stdout",
     "output_type": "stream",
     "text": [
      "\n",
      "Printing the Original array:\n",
      "[1 2 3 4 5 6 7 8]\n",
      "\n",
      "Median of the array that contains even no of elements:\n",
      "4.5\n"
     ]
    }
   ],
   "source": [
    "#statistics\n",
    "# importing numpy as library\n",
    "import numpy as np\n",
    "\n",
    "\n",
    "# creating 1 D array with even no of\n",
    "# elements\n",
    "x_even = np.array([1, 2, 3, 4, 5, 6, 7, 8])\n",
    "print(\"\\nPrinting the Original array:\")\n",
    "print(x_even)\n",
    "\n",
    "# calculating median\n",
    "med_even = np.median(x_even)\n",
    "print(\"\\nMedian of the array that contains \\\n",
    "even no of elements:\")\n",
    "print(med_even)\n"
   ]
  },
  {
   "cell_type": "code",
   "execution_count": 36,
   "metadata": {},
   "outputs": [
    {
     "name": "stdout",
     "output_type": "stream",
     "text": [
      "[138.66666666666666, 164.0, 130.33333333333334]\n"
     ]
    }
   ],
   "source": [
    "# Python code to find mean of\n",
    "# every numpy array in list\n",
    "\n",
    "# Importing module\n",
    "import numpy as np\n",
    "\n",
    "# List Initialization\n",
    "Input = [np.array([101, 122, 193]),\n",
    "\t\tnp.array([146, 150, 196]),\n",
    "\t\tnp.array([174, 108, 109])]\n",
    "\n",
    "# Output list initialization\n",
    "Output = []\n",
    "\n",
    "# using np.mean()\n",
    "for i in range(len(Input)):\n",
    "    Output.append(np.average(Input[i]))\n",
    "\n",
    "# Printing output\n",
    "print(Output)\n"
   ]
  },
  {
   "cell_type": "code",
   "execution_count": 37,
   "metadata": {},
   "outputs": [
    {
     "name": "stdout",
     "output_type": "stream",
     "text": [
      "Shape of array is (2, 3)\n",
      "Mean of array without using nanmean function: nan\n",
      "Using nanmean function: 23.75\n"
     ]
    }
   ],
   "source": [
    "# Python code to demonstrate the\n",
    "# use of numpy.nanmean\n",
    "import numpy as np\n",
    "\n",
    "# create 2d array with nan value.\n",
    "arr = np.array([[20, 15, np.nan], [47, 13, np.nan]])\n",
    "\n",
    "print(\"Shape of array is\", arr.shape)\n",
    "\n",
    "print(\"Mean of array without using nanmean function:\",\n",
    "\t\t\t\t\t\t\t\t\t\tnp.mean(arr))\n",
    "\n",
    "print(\"Using nanmean function:\", np.nanmean(arr))\n"
   ]
  },
  {
   "cell_type": "code",
   "execution_count": 39,
   "metadata": {},
   "outputs": [
    {
     "name": "stdout",
     "output_type": "stream",
     "text": [
      "42.5\n"
     ]
    }
   ],
   "source": [
    "# import the important module in python\n",
    "import numpy as np\n",
    "\t\t\n",
    "# make matrix with numpy\n",
    "mat = np.matrix('[20, 50; 60, 40]')\n",
    "\t\t\n",
    "# applying matrix.mean() method\n",
    "res = mat.mean()\n",
    "\t\n",
    "print(res)\n"
   ]
  },
  {
   "cell_type": "code",
   "execution_count": 40,
   "metadata": {},
   "outputs": [
    {
     "name": "stdout",
     "output_type": "stream",
     "text": [
      "arr :  [20, 2, 7, 1, 34]\n",
      "var of arr :  158.16\n",
      "\n",
      "var of arr :  158.16\n",
      "\n",
      "var of arr :  158.16\n"
     ]
    }
   ],
   "source": [
    "# Python Program illustrating\n",
    "# numpy.var() method\n",
    "import numpy as np\n",
    "\t\n",
    "# 1D array\n",
    "arr = [20, 2, 7, 1, 34]\n",
    "\n",
    "print(\"arr : \", arr)\n",
    "print(\"var of arr : \", np.var(arr))\n",
    "\n",
    "print(\"\\nvar of arr : \", np.var(arr, dtype = np.float32))\n",
    "print(\"\\nvar of arr : \", np.var(arr, dtype = np.float64))\n"
   ]
  },
  {
   "cell_type": "code",
   "execution_count": 57,
   "metadata": {},
   "outputs": [
    {
     "name": "stdout",
     "output_type": "stream",
     "text": [
      "arr :  [20, 2, 7, 1, 34]\n",
      "std of arr :  12.576167937809991\n",
      "\n",
      "More precision with float32\n",
      "std of arr :  12.576168\n",
      "\n",
      "More accuracy with float64\n",
      "std of arr :  12.576167937809991\n"
     ]
    }
   ],
   "source": [
    "# Python Program illustrating\n",
    "# numpy.std() method\n",
    "import numpy as np\n",
    "\t\n",
    "# 1D array\n",
    "arr = [20, 2, 7, 1, 34]\n",
    "\n",
    "print(\"arr : \", arr)\n",
    "print(\"std of arr : \", np.std(arr))\n",
    "\n",
    "print (\"\\nMore precision with float32\")\n",
    "print(\"std of arr : \", np.std(arr, dtype = np.float32))\n",
    "\n",
    "print (\"\\nMore accuracy with float64\")\n",
    "print(\"std of arr : \", np.std(arr, dtype = np.float64))\n",
    "\n",
    "\n"
   ]
  },
  {
   "cell_type": "code",
   "execution_count": 41,
   "metadata": {},
   "outputs": [
    {
     "name": "stdout",
     "output_type": "stream",
     "text": [
      "<class 'dict'>\n",
      "[[  0   0]\n",
      " [  1   1]\n",
      " [  2   8]\n",
      " [  3  27]\n",
      " [  4  64]\n",
      " [  5 125]\n",
      " [  6 216]]\n",
      "<class 'numpy.ndarray'>\n"
     ]
    }
   ],
   "source": [
    "#more questions\n",
    "# importing library\n",
    "import numpy as np\n",
    "\n",
    "# creating dictionary as key as\n",
    "# a number and value as its cube\n",
    "dict_created = {0: 0, 1: 1, 2: 8, 3: 27,\n",
    "\t\t\t\t4: 64, 5: 125, 6: 216}\n",
    "\n",
    "# printing type of dictionary created\n",
    "print(type(dict_created))\n",
    "\n",
    "# converting dictionary to\n",
    "# numpy array\n",
    "res_array = np.array(list(dict_created.items()))\n",
    "\n",
    "# printing the converted array\n",
    "print(res_array)\n",
    "\n",
    "# printing type of converted array\n",
    "print(type(res_array))\n"
   ]
  },
  {
   "cell_type": "code",
   "execution_count": 42,
   "metadata": {},
   "outputs": [
    {
     "name": "stdout",
     "output_type": "stream",
     "text": [
      "<class 'list'>\n",
      "[10, 20, 30]\n",
      "\n",
      "<class 'numpy.ndarray'>\n",
      "[10 20 30]\n",
      "\n",
      "<class 'tuple'>\n",
      "(11, 12, 13)\n",
      "\n",
      "<class 'numpy.ndarray'>\n",
      "[11 12 13]\n",
      "\n",
      "<class 'numpy.ndarray'>\n",
      "[[11 12 13]\n",
      " [10 20 30]\n",
      " [11 12 13]]\n"
     ]
    }
   ],
   "source": [
    "import numpy as np\n",
    "\n",
    "\n",
    "# list\n",
    "list1 = [10, 20, 30]\n",
    "print(type(list1))\n",
    "print(list1)\n",
    "print()\n",
    "\n",
    "# conversion\n",
    "array1 = np.array(list1)\n",
    "print(type(array1))\n",
    "print(array1)\n",
    "print()\n",
    "\n",
    "# tuple\n",
    "tuple1 = ((11, 12, 13))\n",
    "print(type(tuple1))\n",
    "print(tuple1)\n",
    "print()\n",
    "\n",
    "# conversion\n",
    "array2 = np.array(tuple1)\n",
    "print(type(array2))\n",
    "print(array2)\n",
    "print()\n",
    "\n",
    "# list, array and tuple\n",
    "array3 = np.array([tuple1, list1, array2])\n",
    "print(type(array3))\n",
    "print(array3)\n"
   ]
  },
  {
   "cell_type": "code",
   "execution_count": 43,
   "metadata": {},
   "outputs": [
    {
     "name": "stdout",
     "output_type": "stream",
     "text": [
      "[[ 1  2  3  4  5]\n",
      " [ 6  7  8  9 10]]\n"
     ]
    }
   ],
   "source": [
    "# import necessary libraries\n",
    "import pandas as pd\n",
    "import numpy as np\n",
    "\n",
    "# create a dummy array\n",
    "arr = np.arange(1,11).reshape(2,5)\n",
    "\n",
    "# display the array\n",
    "print(arr)\n",
    "\n",
    "# convert array into dataframe\n",
    "DF = pd.DataFrame(arr)\n",
    "\n",
    "# save the dataframe as a csv file\n",
    "DF.to_csv(\"data1.csv\")\n"
   ]
  },
  {
   "cell_type": "code",
   "execution_count": 45,
   "metadata": {},
   "outputs": [
    {
     "ename": "FileNotFoundError",
     "evalue": "[Errno 2] No such file or directory: 'sh.jpg'",
     "output_type": "error",
     "traceback": [
      "\u001b[1;31m---------------------------------------------------------------------------\u001b[0m",
      "\u001b[1;31mFileNotFoundError\u001b[0m                         Traceback (most recent call last)",
      "\u001b[1;32m<ipython-input-45-17f50f0f933c>\u001b[0m in \u001b[0;36m<module>\u001b[1;34m\u001b[0m\n\u001b[0;32m      4\u001b[0m \u001b[1;33m\u001b[0m\u001b[0m\n\u001b[0;32m      5\u001b[0m \u001b[1;31m# read an image\u001b[0m\u001b[1;33m\u001b[0m\u001b[1;33m\u001b[0m\u001b[1;33m\u001b[0m\u001b[0m\n\u001b[1;32m----> 6\u001b[1;33m \u001b[0mimg\u001b[0m \u001b[1;33m=\u001b[0m \u001b[0mImage\u001b[0m\u001b[1;33m.\u001b[0m\u001b[0mopen\u001b[0m\u001b[1;33m(\u001b[0m\u001b[1;34m'sh.jpg'\u001b[0m\u001b[1;33m)\u001b[0m\u001b[1;33m\u001b[0m\u001b[1;33m\u001b[0m\u001b[0m\n\u001b[0m\u001b[0;32m      7\u001b[0m \u001b[1;33m\u001b[0m\u001b[0m\n\u001b[0;32m      8\u001b[0m \u001b[1;31m# convert image object into array\u001b[0m\u001b[1;33m\u001b[0m\u001b[1;33m\u001b[0m\u001b[1;33m\u001b[0m\u001b[0m\n",
      "\u001b[1;32m~\\anaconda3\\lib\\site-packages\\PIL\\Image.py\u001b[0m in \u001b[0;36mopen\u001b[1;34m(fp, mode)\u001b[0m\n\u001b[0;32m   2807\u001b[0m \u001b[1;33m\u001b[0m\u001b[0m\n\u001b[0;32m   2808\u001b[0m     \u001b[1;32mif\u001b[0m \u001b[0mfilename\u001b[0m\u001b[1;33m:\u001b[0m\u001b[1;33m\u001b[0m\u001b[1;33m\u001b[0m\u001b[0m\n\u001b[1;32m-> 2809\u001b[1;33m         \u001b[0mfp\u001b[0m \u001b[1;33m=\u001b[0m \u001b[0mbuiltins\u001b[0m\u001b[1;33m.\u001b[0m\u001b[0mopen\u001b[0m\u001b[1;33m(\u001b[0m\u001b[0mfilename\u001b[0m\u001b[1;33m,\u001b[0m \u001b[1;34m\"rb\"\u001b[0m\u001b[1;33m)\u001b[0m\u001b[1;33m\u001b[0m\u001b[1;33m\u001b[0m\u001b[0m\n\u001b[0m\u001b[0;32m   2810\u001b[0m         \u001b[0mexclusive_fp\u001b[0m \u001b[1;33m=\u001b[0m \u001b[1;32mTrue\u001b[0m\u001b[1;33m\u001b[0m\u001b[1;33m\u001b[0m\u001b[0m\n\u001b[0;32m   2811\u001b[0m \u001b[1;33m\u001b[0m\u001b[0m\n",
      "\u001b[1;31mFileNotFoundError\u001b[0m: [Errno 2] No such file or directory: 'sh.jpg'"
     ]
    }
   ],
   "source": [
    "# import required libraries\n",
    "from PIL import Image\n",
    "import numpy as gfg\n",
    "\n",
    "# read an image\n",
    "img = Image.open('sh.jpg')\n",
    "\n",
    "# convert image object into array\n",
    "imageToMatrice = gfg.asarray(img)\n",
    "\n",
    "# printing shape of image\n",
    "print(imageToMatrice.shape)\n"
   ]
  },
  {
   "cell_type": "code",
   "execution_count": 80,
   "metadata": {},
   "outputs": [
    {
     "name": "stdout",
     "output_type": "stream",
     "text": [
      "Array:\n",
      " [1 2 3 4 5]\n",
      "\n",
      "Content in shweta.txt:\n",
      " [1 2 3 4 5]\n"
     ]
    }
   ],
   "source": [
    "# Program to save a NumPy array to a text file\n",
    "\n",
    "# Importing required libraries\n",
    "import numpy\n",
    "\n",
    "# Creating an array\n",
    "List = [1, 2, 3, 4, 5]\n",
    "Array = numpy.array(List)\n",
    "\n",
    "# Displaying the array\n",
    "print('Array:\\n', Array)\n",
    "file = open(\"shweta.txt\", \"w+\")\n",
    "\n",
    "# Saving the array in a text file\n",
    "content = str(Array)\n",
    "file.write(content)\n",
    "file.close()\n",
    "\n",
    "# Displaying the contents of the text file\n",
    "file = open(\"shweta.txt\", \"r\")\n",
    "content = file.read()\n",
    "\n",
    "print(\"\\nContent in shweta.txt:\\n\", content)\n",
    "file.close()\n"
   ]
  },
  {
   "cell_type": "code",
   "execution_count": 81,
   "metadata": {},
   "outputs": [
    {
     "name": "stdout",
     "output_type": "stream",
     "text": [
      "[(b'F', 20, 60.) (b'F', 35, 58.)]\n",
      "x is:  [1. 4.]\n",
      "y is:  [2. 5.]\n",
      "z is:  [3. 6.]\n"
     ]
    }
   ],
   "source": [
    "# Python program explaining\n",
    "# loadtxt() function\n",
    "import numpy as np\n",
    "\n",
    "# StringIO behaves like a file object\n",
    "from io import StringIO\n",
    "\n",
    "d = StringIO(\"F 20 60\\nF 35 58\")\n",
    "e = np.loadtxt(d, dtype ={'names': ('gender', 'age', 'weight'),\n",
    "\t\t\t\t\t\t\t\t'formats': ('S1', 'i4', 'f4')})\n",
    "\n",
    "print(e)\n",
    "# Python program explaining\n",
    "# loadtxt() function\n",
    "\n",
    "c = StringIO(\"1, 2, 3\\n4, 5, 6\")\n",
    "x, y, z = np.loadtxt(c, delimiter =', ', usecols =(0, 1, 2),\n",
    "\t\t\t\t\t\t\t\t\t\t\t\tunpack = True)\n",
    "\n",
    "print(\"x is: \", x)\n",
    "print(\"y is: \", y)\n",
    "print(\"z is: \", z)\n"
   ]
  },
  {
   "cell_type": "code",
   "execution_count": 82,
   "metadata": {},
   "outputs": [
    {
     "data": {
      "image/png": "[encoded data removed]",
      "text/plain": [
       "<Figure size 432x288 with 1 Axes>"
      ]
     },
     "metadata": {
      "needs_background": "light"
     },
     "output_type": "display_data"
    }
   ],
   "source": [
    "import matplotlib.pyplot as plt\n",
    "import numpy as np\n",
    "\n",
    "\n",
    "# Define X and Y variable data\n",
    "x = np.array([1, 2, 3, 4])\n",
    "y = x*2\n",
    "\n",
    "plt.plot(x, y, color =\"red\")\n",
    "plt.xlabel(\"X-axis\") # add X-axis label\n",
    "plt.ylabel(\"Y-axis\") # add Y-axis label\n",
    "plt.title(\"Any suitable title\") # add title\n",
    "plt.show()\n",
    "\n",
    "\n"
   ]
  },
  {
   "cell_type": "code",
   "execution_count": 51,
   "metadata": {},
   "outputs": [
    {
     "name": "stdout",
     "output_type": "stream",
     "text": [
      "\n",
      "[4 5 4 9 4 1 5 4 9 5]\n",
      "[  0  10  20  30  40  50  60  70  80  90 100]\n",
      "\n"
     ]
    }
   ],
   "source": [
    "# Import libraries\n",
    "import numpy as np\n",
    "\n",
    "\n",
    "# Creating dataset\n",
    "a = np.random.randint(100, size =(50))\n",
    "\n",
    "# Creating histogram\n",
    "np.histogram(a, bins = [0, 10, 20, 30, 40,\n",
    "\t\t\t\t\t\t50, 60, 70, 80, 90,\n",
    "\t\t\t\t\t\t100])\n",
    "\n",
    "hist, bins = np.histogram(a, bins = [0, 10,\n",
    "\t\t\t\t\t\t\t\t\t20, 30,\n",
    "\t\t\t\t\t\t\t\t\t40, 50,\n",
    "\t\t\t\t\t\t\t\t\t60, 70,\n",
    "\t\t\t\t\t\t\t\t\t80, 90,\n",
    "\t\t\t\t\t\t\t\t\t100])\n",
    "\n",
    "# printing histogram\n",
    "print()\n",
    "print (hist)\n",
    "print (bins)\n",
    "print()\n"
   ]
  },
  {
   "cell_type": "code",
   "execution_count": 52,
   "metadata": {},
   "outputs": [
    {
     "data": {
      "image/png": "[encoded data removed]",
      "text/plain": [
       "<Figure size 720x504 with 1 Axes>"
      ]
     },
     "metadata": {
      "needs_background": "light"
     },
     "output_type": "display_data"
    }
   ],
   "source": [
    "# import libraries\n",
    "from matplotlib import pyplot as plt\n",
    "import numpy as np\n",
    "# Creating dataset\n",
    "a = np.random.randint(100, size =(50))\n",
    "\n",
    "# Creating plot\n",
    "fig = plt.figure(figsize =(10, 7))\n",
    "\n",
    "plt.hist(a, bins = [0, 10, 20, 30,\n",
    "\t\t\t\t\t40, 50, 60, 70,\n",
    "\t\t\t\t\t80, 90, 100])\n",
    "plt.title(\"Numpy Histogram\")\n",
    "# show plot\n",
    "plt.show()\n"
   ]
  },
  {
   "cell_type": "code",
   "execution_count": 55,
   "metadata": {},
   "outputs": [
    {
     "name": "stdout",
     "output_type": "stream",
     "text": [
      "initial array ['19.1' '12.5' '70.4' '28.9']\n",
      "final array [19.1 12.5 70.4 28.9]\n"
     ]
    }
   ],
   "source": [
    "# Python code to demonstrate converting\n",
    "# array of strings to array of floats\n",
    "# using fromstring\n",
    "\n",
    "import numpy as np\n",
    "\n",
    "# initialising array\n",
    "ini_array = np.array([\"19.1\", \"12.5\", \"70.4\", \"28.9\"])\n",
    "\n",
    "# printing initial array\n",
    "print (\"initial array\", str(ini_array))\n",
    "\n",
    "# conerting to array of floats\n",
    "# using np.fromstring\n",
    "ini_array = ', '.join(ini_array)\n",
    "ini_array = np.fromstring(ini_array, dtype = np.float,\n",
    "\t\t\t\t\t\t\t\t\t\tsep =', ' )\n",
    "\n",
    "# printing final result\n",
    "print (\"final array\", str(ini_array))\n"
   ]
  },
  {
   "cell_type": "code",
   "execution_count": 58,
   "metadata": {},
   "outputs": [
    {
     "name": "stdout",
     "output_type": "stream",
     "text": [
      "[[ 1.         -0.94491118]\n",
      " [-0.94491118  1.        ]]\n"
     ]
    }
   ],
   "source": [
    "#statistics\n",
    "# import numpy library\n",
    "import numpy as np\n",
    "\n",
    "# create a numpy 1d-array\n",
    "array1 = np.array([ 20, 30, 30])\n",
    "array2 = np.array([ 40, 20,10])\n",
    "\n",
    "\n",
    "# pearson product-moment correlation\n",
    "# coefficients of the arrays\n",
    "rslt2 = np.corrcoef(array1, array2)\n",
    "\n",
    "print(rslt2)\n"
   ]
  },
  {
   "cell_type": "code",
   "execution_count": 59,
   "metadata": {},
   "outputs": [
    {
     "name": "stdout",
     "output_type": "stream",
     "text": [
      "Mean of Row 1 is 20.0\n",
      "Mean of Row 2 is 50.0\n",
      "Mean of Row 3 is 80.0\n",
      "Mean of column 1 is 40.0\n",
      "Mean of column 2 is 50.0\n",
      "Mean of column 3 is 60.0\n"
     ]
    }
   ],
   "source": [
    "# Importing Library\n",
    "import numpy as np\n",
    "\n",
    "# creating 2d array\n",
    "arr = np.array([[10, 20, 30], [40, 50, 60], [70, 80, 90]])\n",
    "\n",
    "# Calculating mean across Rows\n",
    "row_mean = np.mean(arr, axis=1)\n",
    "\n",
    "row1_mean = row_mean[0]\n",
    "print(\"Mean of Row 1 is\", row1_mean)\n",
    "\n",
    "row2_mean = row_mean[1]\n",
    "print(\"Mean of Row 2 is\", row2_mean)\n",
    "\n",
    "row3_mean = row_mean[2]\n",
    "print(\"Mean of Row 3 is\", row3_mean)\n",
    "\n",
    "\n",
    "# Calculating mean across Columns\n",
    "column_mean = np.mean(arr, axis=0)\n",
    "\n",
    "column1_mean = column_mean[0]\n",
    "print(\"Mean of column 1 is\", column1_mean)\n",
    "\n",
    "column2_mean = column_mean[1]\n",
    "print(\"Mean of column 2 is\", column2_mean)\n",
    "\n",
    "column3_mean = column_mean[2]\n",
    "print(\"Mean of column 3 is\", column3_mean)\n"
   ]
  },
  {
   "cell_type": "code",
   "execution_count": 79,
   "metadata": {},
   "outputs": [
    {
     "name": "stdout",
     "output_type": "stream",
     "text": [
      "105.57142857142857\n",
      "29579.10204081633\n",
      "171.98576115718512\n"
     ]
    }
   ],
   "source": [
    "# Python program to get average of a list\n",
    "\n",
    "# Importing the NumPy module\n",
    "import numpy as np\n",
    "\n",
    "# Taking a list of elements\n",
    "list = [2, 40, 2, 502, 177, 7, 9]\n",
    "\n",
    "# Calculating average using average()\n",
    "print(np.average(list))\n",
    "# Calculating variance using var()\n",
    "print(np.var(list))\n",
    "  \n",
    "# Calculating standard \n",
    "# deviation using var()\n",
    "print(np.std(list))\n"
   ]
  },
  {
   "cell_type": "code",
   "execution_count": 61,
   "metadata": {},
   "outputs": [
    {
     "name": "stdout",
     "output_type": "stream",
     "text": [
      "Descriptive analysis\n",
      "Array = [10 20 20 40 50 60 70 80 90 45 65]\n",
      "Measures of Central Tendency\n",
      "Mean = 50.0\n",
      "Median = 50.0\n",
      "Measures of Dispersion\n",
      "Minimum = 10\n",
      "Maximum = 90\n",
      "Range = 80\n",
      "Varience = 613.6363636363636\n",
      "Standard Deviation = 24.771684715343113\n"
     ]
    }
   ],
   "source": [
    "import numpy as np\n",
    "arr = np.array([10, 20, 20, 40, 50, 60,\n",
    "\t\t\t\t70, 80, 90, 45, 65])\t\n",
    "# measures of central tendency\n",
    "mean = np.mean(arr)\n",
    "median = np.median(arr)\n",
    "# measures of dispersion\n",
    "min = np.amin(arr)\n",
    "max = np.amax(arr)\n",
    "range = np.ptp(arr)\n",
    "varience = np.var(arr)\n",
    "sd = np.std(arr)\n",
    "print(\"Descriptive analysis\")\n",
    "print(\"Array =\", arr)\n",
    "print(\"Measures of Central Tendency\")\n",
    "print(\"Mean =\", mean)\n",
    "print(\"Median =\", median)\n",
    "print(\"Measures of Dispersion\")\n",
    "print(\"Minimum =\", min)\n",
    "print(\"Maximum =\", max)\n",
    "print(\"Range =\", range)\n",
    "print(\"Varience =\", varience)\n",
    "print(\"Standard Deviation =\", sd)\n"
   ]
  },
  {
   "cell_type": "code",
   "execution_count": 62,
   "metadata": {},
   "outputs": [
    {
     "name": "stdout",
     "output_type": "stream",
     "text": [
      "P1 :   \n",
      "1 x + 2\n",
      "\n",
      " p2 : \n",
      "    3     2\n",
      "4 x + 9 x + 5 x + 4\n",
      "\n",
      "\n",
      "p1 at x = 2 :  4\n",
      "p2 at x = 2 :  82\n",
      "\n",
      "\n",
      "Roots of P1 :  [-2.]\n",
      "Roots of P2 :  [-1.86738371+0.j         -0.19130814+0.70633545j -0.19130814-0.70633545j]\n",
      "\n",
      "\n",
      "Coefficients of P1 :  [1 2]\n",
      "Coefficients of P2 :  [4 9 5 4]\n",
      "\n",
      "\n",
      "Order / Degree of P1 :  1\n",
      "Order / Degree of P2 :  3\n",
      "\n",
      "\n",
      "p1 ^ 2 : \n",
      "    2\n",
      "1 x + 4 x + 4\n",
      "p2 ^ 2 : \n",
      " [16 81 25 16]\n",
      "\n",
      "\n",
      "p3 :   \n",
      "1 y + 2\n",
      "\n",
      "\n",
      "p1 * p2 : \n",
      "    4      3      2\n",
      "4 x + 17 x + 23 x + 14 x + 8\n",
      "\n",
      "Multiplying two polynimials : \n",
      "    2\n",
      "1 x - 3 x + 2\n"
     ]
    }
   ],
   "source": [
    "#polynomial\n",
    "# Python code explaining\n",
    "# numpy.poly1d()\n",
    "\n",
    "# importing libraries\n",
    "import numpy as np\n",
    "\n",
    "# Constructing polynomial\n",
    "p1 = np.poly1d([1, 2])\n",
    "p2 = np.poly1d([4, 9, 5, 4])\n",
    "\n",
    "print (\"P1 : \", p1)\n",
    "print (\"\\n p2 : \\n\", p2)\n",
    "\n",
    "  \n",
    "# Solve for x = 2\n",
    "print (\"\\n\\np1 at x = 2 : \", p1(2))\n",
    "print (\"p2 at x = 2 : \", p2(2))\n",
    "  \n",
    "# Finding Roots\n",
    "print (\"\\n\\nRoots of P1 : \", p1.r)\n",
    "print (\"Roots of P2 : \", p2.r)\n",
    "  \n",
    "# Finding Coefficients\n",
    "print (\"\\n\\nCoefficients of P1 : \", p1.c)\n",
    "print (\"Coefficients of P2 : \", p2.coeffs)\n",
    "  \n",
    "# Finding Order\n",
    "print (\"\\n\\nOrder / Degree of P1 : \", p1.o)\n",
    "print (\"Order / Degree of P2 : \", p2.order)\n",
    "\n",
    "print (\"\\n\\np1 ^ 2 : \\n\", p1**2)\n",
    "print (\"p2 ^ 2 : \\n\", np.square(p2))\n",
    "\n",
    "p3 = np.poly1d([1, 2], variable = 'y')\n",
    "print (\"\\n\\np3 : \", p3)\n",
    "\n",
    "\n",
    "print (\"\\n\\np1 * p2 : \\n\", p1 * p2)\n",
    "print (\"\\nMultiplying two polynimials : \\n\",\n",
    "\tnp.poly1d([1, -1]) * np.poly1d([1, -2]))\n"
   ]
  },
  {
   "cell_type": "code",
   "execution_count": 63,
   "metadata": {},
   "outputs": [
    {
     "name": "stdout",
     "output_type": "stream",
     "text": [
      "[9.8 0.  6.2]\n"
     ]
    }
   ],
   "source": [
    "# importing package\n",
    "import numpy\n",
    "\n",
    "# define the polynomials\n",
    "# p(x) = 2.2\n",
    "px = (0,0,2.2)\n",
    "\n",
    "# q(x) = 9.8(x**2) + 4\n",
    "qx = (9.8,0,4)\n",
    "\n",
    "# add the polynomials\n",
    "rx = numpy.polynomial.polynomial.polyadd(px,qx)\n",
    "\n",
    "# print the resultant polynomial\n",
    "print(rx)\n"
   ]
  },
  {
   "cell_type": "code",
   "execution_count": 64,
   "metadata": {},
   "outputs": [
    {
     "name": "stdout",
     "output_type": "stream",
     "text": [
      "[3. 3. 3.]\n"
     ]
    }
   ],
   "source": [
    "# importing package\n",
    "import numpy\n",
    "\n",
    "# define the polynomials\n",
    "# p(x) = 5(x**2) + (-2)x +5\n",
    "px = (5,-2,5)\n",
    "\n",
    "# q(x) = 2(x**2) + (-5)x +2\n",
    "qx = (2,-5,2)\n",
    "\n",
    "# subtract the polynomials\n",
    "rx = numpy.polynomial.polynomial.polysub(px,qx)\n",
    "\n",
    "# print the resultant polynomial\n",
    "print(rx)\n"
   ]
  },
  {
   "cell_type": "code",
   "execution_count": 65,
   "metadata": {},
   "outputs": [
    {
     "name": "stdout",
     "output_type": "stream",
     "text": [
      "[ 0.    0.   21.56  0.    8.8 ]\n"
     ]
    }
   ],
   "source": [
    "# importing package\n",
    "import numpy\n",
    "\n",
    "# define the polynomials\n",
    "# p(x) = 2.2\n",
    "px = (0, 0, 2.2)\n",
    "\n",
    "# q(x) = 9.8(x**2) + 4\n",
    "qx = (9.8, 0, 4)\n",
    "\n",
    "# mul the polynomials\n",
    "rx = numpy.polynomial.polynomial.polymul(px, qx)\n",
    "\n",
    "# print the resultant polynomial\n",
    "print(rx)\n"
   ]
  },
  {
   "cell_type": "code",
   "execution_count": 66,
   "metadata": {},
   "outputs": [
    {
     "name": "stdout",
     "output_type": "stream",
     "text": [
      "[-12.   5.]\n",
      "[29.]\n"
     ]
    }
   ],
   "source": [
    "# importing package\n",
    "import numpy\n",
    "\n",
    "# define the polynomials\n",
    "# p(x) = 5(x**2) + (-2)x +5\n",
    "px = (5, -2, 5)\n",
    "\n",
    "# g(x) = x +2\n",
    "gx = (2, 1, 0)\n",
    "\n",
    "# divide the polynomials\n",
    "qx, rx = numpy.polynomial.polynomial.polydiv(px, gx)\n",
    "\n",
    "# print the result\n",
    "# quotiient\n",
    "print(qx)\n",
    "\n",
    "# remainder\n",
    "print(rx)\n"
   ]
  },
  {
   "cell_type": "code",
   "execution_count": 67,
   "metadata": {},
   "outputs": [
    {
     "name": "stdout",
     "output_type": "stream",
     "text": [
      "[-1. +0.j        -0.5+0.8660254j -0.5-0.8660254j]\n"
     ]
    }
   ],
   "source": [
    "# import numpy library\n",
    "import numpy as np\n",
    "\n",
    "\n",
    "# Enter the coefficients of the poly\n",
    "# in the array\n",
    "coeff = [1, 2, 2, 1]\n",
    "print(np.roots(coeff))\n"
   ]
  },
  {
   "cell_type": "code",
   "execution_count": 68,
   "metadata": {},
   "outputs": [
    {
     "name": "stdout",
     "output_type": "stream",
     "text": [
      "3271.0\n"
     ]
    }
   ],
   "source": [
    "# Python program explaining\n",
    "# numpy.polygrid2d() method\n",
    "\n",
    "# importing numpy as np\n",
    "import numpy as np\n",
    "from numpy.polynomial.polynomial import polygrid2d\n",
    "\n",
    "# Input polynomial series coefficients\n",
    "c = np.array([[1, 3, 5], [2, 4, 6]])\n",
    "\n",
    "# using np.polygrid2d() method\n",
    "ans = polygrid2d(7, 8, c)\n",
    "\n",
    "print(ans)\n"
   ]
  },
  {
   "cell_type": "code",
   "execution_count": 69,
   "metadata": {},
   "outputs": [
    {
     "name": "stdout",
     "output_type": "stream",
     "text": [
      "83610.0\n"
     ]
    }
   ],
   "source": [
    "# Python program explaining\n",
    "# numpy.polygrid3d() method\n",
    "\n",
    "# importing numpy as np\n",
    "import numpy as np\n",
    "from numpy.polynomial.polynomial import polygrid3d\n",
    "\n",
    "# Input polynomial series coefficients\n",
    "c = np.array([[1, 3, 5], [2, 4, 6], [10, 11, 12]])\n",
    "\n",
    "# using np.polygrid3d() method\n",
    "ans = polygrid3d(7, 11, 12, c)\n",
    "\n",
    "print(ans)\n"
   ]
  },
  {
   "cell_type": "code",
   "execution_count": 71,
   "metadata": {},
   "outputs": [
    {
     "name": "stdout",
     "output_type": "stream",
     "text": [
      "[[ 1  2]\n",
      " [ 5 15]]\n"
     ]
    }
   ],
   "source": [
    "#Sorting and searching\n",
    "# import the important module in python\n",
    "import numpy as np\n",
    "\t\t\t\n",
    "# make matrix with numpy\n",
    "mat = np.matrix('[2, 1; 15, 5]')\n",
    "\t\t\t\n",
    "# applying matrix.sort() method\n",
    "mat.sort()\n",
    "\n",
    "print(mat)\n"
   ]
  },
  {
   "cell_type": "code",
   "execution_count": 72,
   "metadata": {},
   "outputs": [
    {
     "name": "stdout",
     "output_type": "stream",
     "text": [
      "initial array :  [1.5 1.2 2.2 2.8 3.  2. ]\n",
      "final array [1.5 1.2 2.2 2.8]\n"
     ]
    }
   ],
   "source": [
    "# Python code to demonstrate\n",
    "# filtering integers from numpy array\n",
    "# containing integers and float\n",
    "\n",
    "import numpy as np\n",
    "\n",
    "# initialising array\n",
    "ini_array = np.array([1.5, 1.2, 2.2, 2.8, 3.0, 2.0])\n",
    "\n",
    "# printing initial array\n",
    "print (\"initial array : \", str(ini_array))\n",
    "\n",
    "# filtering integers\n",
    "result = ini_array[ini_array != ini_array.astype(int)]\n",
    "\n",
    "# printing resultant\n",
    "print (\"final array\", result)\n"
   ]
  },
  {
   "cell_type": "code",
   "execution_count": 75,
   "metadata": {},
   "outputs": [
    {
     "name": "stdout",
     "output_type": "stream",
     "text": [
      "Input array :  [2, 3, 8, 9, 10]\n",
      "The number which we want to insert :  4\n",
      "Output indices to maintain sorted array :  2\n"
     ]
    }
   ],
   "source": [
    "# Python program explaining\n",
    "# searchsorted() function\n",
    "\n",
    "import numpy as np\n",
    "\n",
    "# input array\n",
    "in_arr = [2, 3, 8, 9, 10]\n",
    "print (\"Input array : \", in_arr)\n",
    "\n",
    "# the number which we want to insert\n",
    "num = 4\n",
    "print(\"The number which we want to insert : \", num)\n",
    "\n",
    "out_ind = np.searchsorted(in_arr, num, side ='right')\n",
    "print (\"Output indices to maintain sorted array : \", out_ind)\n"
   ]
  },
  {
   "cell_type": "code",
   "execution_count": null,
   "metadata": {},
   "outputs": [],
   "source": []
  }
 ],
 "metadata": {
  "kernelspec": {
   "display_name": "Python 3",
   "language": "python",
   "name": "python3"
  },
  "language_info": {
   "codemirror_mode": {
    "name": "ipython",
    "version": 3
   },
   "file_extension": ".py",
   "mimetype": "text/x-python",
   "name": "python",
   "nbconvert_exporter": "python",
   "pygments_lexer": "ipython3",
   "version": "3.7.6"
  }
 },
 "nbformat": 4,
 "nbformat_minor": 4
}
